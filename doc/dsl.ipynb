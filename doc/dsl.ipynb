{
 "cells": [
  {
   "cell_type": "code",
   "execution_count": 4,
   "metadata": {
    "collapsed": false,
    "scrolled": true
   },
   "outputs": [
    {
     "name": "stderr",
     "output_type": "stream",
     "text": [
      "Using gpu device 0: GRID K520\n"
     ]
    }
   ],
   "source": [
    "import numpy as np\n",
    "import pandas as pd\n",
    "from lxml import html\n",
    "from itertools import izip, chain,islice\n",
    "\n",
    "from passage.models import RNN\n",
    "from passage.updates import Adadelta\n",
    "from passage.updates import NAG, Regularizer\n",
    "from passage.layers import Embedding, GatedRecurrent, Dense\n",
    "from passage.preprocessing import *\n",
    "\n",
    "from sklearn import preprocessing"
   ]
  },
  {
   "cell_type": "code",
   "execution_count": 9,
   "metadata": {
    "collapsed": true
   },
   "outputs": [],
   "source": [
    "class CharTokenize(Tokenizer):\n",
    "    def __init__(self, max_features=9997, min_df=10, lowercase=True, character=False, charn=1):\n",
    "        super(CharTokenize, self).__init__(max_features, min_df, lowercase, character)\n",
    "        self.charn = charn\n",
    "        \n",
    "    def ntuples(self, lst, n):\n",
    "        iters = izip(*[chain(islice(lst,i,None)) for i in range(n)])\n",
    "        return [''.join(i) for i in iters]\n",
    "    \n",
    "    def fit(self, texts):\n",
    "        if self.lowercase:\n",
    "            texts = [text.lower() for text in texts]\n",
    "        if self.character:\n",
    "            tokens = [self.ntuples(list(text.decode(\"utf-8\")), self.charn) for text in texts]\n",
    "#             print tokens\n",
    "        else:\n",
    "            tokens = [tokenize(text) for text in texts]\n",
    "        self.encoder = token_encoder(tokens, max_features=self.max_features-3, min_df=self.min_df)\n",
    "        self.encoder['PAD'] = 0\n",
    "        self.encoder['END'] = 1\n",
    "        self.encoder['UNK'] = 2\n",
    "        self.decoder = dict(zip(self.encoder.values(), self.encoder.keys()))\n",
    "        self.n_features = len(self.encoder)\n",
    "        return self\n",
    "    \n",
    "    def transform(self, texts):\n",
    "        if self.lowercase:\n",
    "            texts = [text.lower() for text in texts]\n",
    "        if self.character:\n",
    "            texts = [self.ntuples(list(text.decode(\"utf-8\")), self.charn) for text in texts]\n",
    "        else:\n",
    "            texts = [tokenize(text) for text in texts]\n",
    "        tokens = [[self.encoder.get(token, 2) for token in text] for text in texts]\n",
    "        return tokens"
   ]
  },
  {
   "cell_type": "code",
   "execution_count": 34,
   "metadata": {
    "collapsed": true
   },
   "outputs": [],
   "source": [
    "trainFile = \"../../train.txt\"\n",
    "testFile = \"../../test.txt\"\n",
    "goldFile = \"../../test-gold.txt\""
   ]
  },
  {
   "cell_type": "code",
   "execution_count": 10,
   "metadata": {
    "collapsed": false
   },
   "outputs": [
    {
     "name": "stderr",
     "output_type": "stream",
     "text": [
      "/home/ubuntu/anaconda2/lib/python2.7/site-packages/ipykernel/__main__.py:1: ParserWarning: Falling back to the 'python' engine because the 'c' engine does not support regex separators; you can avoid this warning by specifying engine='python'.\n",
      "  if __name__ == '__main__':\n"
     ]
    }
   ],
   "source": [
    "tr_data = pd.read_csv(trainFile, encoding='utf-8', sep=r'\\t+', header=None, names=['text', 'label'])\n",
    "trX = tr_data['text'].values\n",
    "trY = tr_data['label'].values"
   ]
  },
  {
   "cell_type": "code",
   "execution_count": 11,
   "metadata": {
    "collapsed": false
   },
   "outputs": [
    {
     "data": {
      "text/plain": [
       "(252000,)"
      ]
     },
     "execution_count": 11,
     "metadata": {},
     "output_type": "execute_result"
    }
   ],
   "source": [
    "tr_data['text'].shape"
   ]
  },
  {
   "cell_type": "code",
   "execution_count": 12,
   "metadata": {
    "collapsed": false
   },
   "outputs": [
    {
     "data": {
      "text/plain": [
       "array(['bg', 'bs', 'cz', 'es-AR', 'es-ES', 'hr', 'id', 'mk', 'my', 'pt-BR',\n",
       "       'pt-PT', 'sk', 'sr', 'xx'], dtype=object)"
      ]
     },
     "execution_count": 12,
     "metadata": {},
     "output_type": "execute_result"
    }
   ],
   "source": [
    "le = preprocessing.LabelEncoder()\n",
    "trY_t = le.fit_transform(trY)\n",
    "le.classes_\n",
    "# trY_t.dtype = np.uint8"
   ]
  },
  {
   "cell_type": "code",
   "execution_count": null,
   "metadata": {
    "collapsed": true
   },
   "outputs": [],
   "source": []
  },
  {
   "cell_type": "code",
   "execution_count": 13,
   "metadata": {
    "collapsed": false
   },
   "outputs": [
    {
     "name": "stdout",
     "output_type": "stream",
     "text": [
      "Training data tokenized.\n"
     ]
    }
   ],
   "source": [
    "tokenizer = CharTokenize(character=True, charn=4, min_df=2, max_features=1000000)\n",
    "trX_t = tokenizer.fit_transform(trX)\n",
    "print(\"Training data tokenized.\")"
   ]
  },
  {
   "cell_type": "code",
   "execution_count": 14,
   "metadata": {
    "collapsed": false
   },
   "outputs": [
    {
     "data": {
      "text/plain": [
       "372308"
      ]
     },
     "execution_count": 14,
     "metadata": {},
     "output_type": "execute_result"
    }
   ],
   "source": [
    "tokenizer.n_features"
   ]
  },
  {
   "cell_type": "code",
   "execution_count": 37,
   "metadata": {
    "collapsed": false
   },
   "outputs": [
    {
     "name": "stderr",
     "output_type": "stream",
     "text": [
      "/home/ubuntu/anaconda2/lib/python2.7/site-packages/ipykernel/__main__.py:1: ParserWarning: Falling back to the 'python' engine because the 'c' engine does not support regex separators; you can avoid this warning by specifying engine='python'.\n",
      "  if __name__ == '__main__':\n"
     ]
    }
   ],
   "source": [
    "te_data = pd.read_csv(testFile, encoding='utf-8', sep=r'\\t+', header=None, names=['text'])\n",
    "teX = te_data['text'].values\n",
    "# teX_t = tokenizer.transform(teX)"
   ]
  },
  {
   "cell_type": "code",
   "execution_count": 18,
   "metadata": {
    "collapsed": false,
    "scrolled": true
   },
   "outputs": [
    {
     "data": {
      "text/plain": [
       "(14,)"
      ]
     },
     "execution_count": 18,
     "metadata": {},
     "output_type": "execute_result"
    }
   ],
   "source": [
    "le.classes_.shape"
   ]
  },
  {
   "cell_type": "code",
   "execution_count": 19,
   "metadata": {
    "collapsed": false,
    "scrolled": true
   },
   "outputs": [
    {
     "name": "stderr",
     "output_type": "stream",
     "text": [
      "INFO (theano.gof.compilelock): Refreshing lock /home/ubuntu/.theano/compiledir_Linux-3.13--generic-x86_64-with-debian-jessie-sid-x86_64-2.7.10-64/lock_dir/lock\n",
      "INFO:theano.gof.compilelock:Refreshing lock /home/ubuntu/.theano/compiledir_Linux-3.13--generic-x86_64-with-debian-jessie-sid-x86_64-2.7.10-64/lock_dir/lock\n",
      "INFO (theano.gof.compilelock): Refreshing lock /home/ubuntu/.theano/compiledir_Linux-3.13--generic-x86_64-with-debian-jessie-sid-x86_64-2.7.10-64/lock_dir/lock\n",
      "INFO:theano.gof.compilelock:Refreshing lock /home/ubuntu/.theano/compiledir_Linux-3.13--generic-x86_64-with-debian-jessie-sid-x86_64-2.7.10-64/lock_dir/lock\n",
      "INFO (theano.gof.compilelock): Refreshing lock /home/ubuntu/.theano/compiledir_Linux-3.13--generic-x86_64-with-debian-jessie-sid-x86_64-2.7.10-64/lock_dir/lock\n",
      "INFO:theano.gof.compilelock:Refreshing lock /home/ubuntu/.theano/compiledir_Linux-3.13--generic-x86_64-with-debian-jessie-sid-x86_64-2.7.10-64/lock_dir/lock\n"
     ]
    },
    {
     "name": "stdout",
     "output_type": "stream",
     "text": [
      "Epoch 0 Seen 249520 samples Avg cost 0.4205 Time elapsed 1681 seconds\n",
      "Epoch 1 Seen 499040 samples Avg cost 0.2325 Time elapsed 3362 seconds\n",
      "Epoch 2 Seen 748560 samples Avg cost 0.1751 Time elapsed 5043 seconds\n",
      "Epoch 3 Seen 998080 samples Avg cost 0.1414 Time elapsed 6724 seconds\n",
      "Epoch 4 Seen 1247600 samples Avg cost 0.1163 Time elapsed 8405 seconds\n",
      "Epoch 5 Seen 1497120 samples Avg cost 0.0998 Time elapsed 10087 seconds\n",
      "Epoch 6 Seen 1746640 samples Avg cost 0.0859 Time elapsed 11768 seconds\n",
      "Epoch 7 Seen 1996160 samples Avg cost 0.0642 Time elapsed 13451 seconds\n",
      "Epoch 8 Seen 2245680 samples Avg cost 0.0519 Time elapsed 15132 seconds\n",
      "Epoch 9 Seen 2495200 samples Avg cost 0.0439 Time elapsed 16814 seconds\n"
     ]
    },
    {
     "data": {
      "text/plain": [
       "[array(2.638566017150879, dtype=float32),\n",
       " array(2.6400649547576904, dtype=float32),\n",
       " array(2.641324043273926, dtype=float32),\n",
       " array(2.6290030479431152, dtype=float32),\n",
       " array(2.626413345336914, dtype=float32),\n",
       " array(2.6752517223358154, dtype=float32),\n",
       " array(2.6392412185668945, dtype=float32),\n",
       " array(2.6384191513061523, dtype=float32),\n",
       " array(2.619131088256836, dtype=float32),\n",
       " array(2.6479287147521973, dtype=float32),\n",
       " array(2.6283481121063232, dtype=float32),\n",
       " array(2.6251330375671387, dtype=float32),\n",
       " array(2.7075767517089844, dtype=float32),\n",
       " array(2.649120330810547, dtype=float32),\n",
       " array(2.644284248352051, dtype=float32),\n",
       " array(2.648451566696167, dtype=float32),\n",
       " array(2.647885799407959, dtype=float32),\n",
       " array(2.63891339302063, dtype=float32),\n",
       " array(2.6392993927001953, dtype=float32),\n",
       " array(2.6485981941223145, dtype=float32),\n",
       " array(2.6426501274108887, dtype=float32),\n",
       " array(2.6375508308410645, dtype=float32),\n",
       " array(2.6312344074249268, dtype=float32),\n",
       " array(2.63360595703125, dtype=float32),\n",
       " array(2.6681642532348633, dtype=float32),\n",
       " array(2.63607120513916, dtype=float32),\n",
       " array(2.6524248123168945, dtype=float32),\n",
       " array(2.64143705368042, dtype=float32),\n",
       " array(2.6504149436950684, dtype=float32),\n",
       " array(2.6395437717437744, dtype=float32),\n",
       " array(2.6369969844818115, dtype=float32),\n",
       " array(2.6394448280334473, dtype=float32),\n",
       " array(2.6409058570861816, dtype=float32),\n",
       " array(2.6322884559631348, dtype=float32),\n",
       " array(2.6355133056640625, dtype=float32),\n",
       " array(2.635838747024536, dtype=float32),\n",
       " array(2.695253849029541, dtype=float32),\n",
       " array(2.625633955001831, dtype=float32),\n",
       " array(2.6425650119781494, dtype=float32),\n",
       " array(2.6306686401367188, dtype=float32),\n",
       " array(2.659299850463867, dtype=float32),\n",
       " array(2.6327285766601562, dtype=float32),\n",
       " array(2.639538526535034, dtype=float32),\n",
       " array(2.6377036571502686, dtype=float32),\n",
       " array(2.63387393951416, dtype=float32),\n",
       " array(2.631237506866455, dtype=float32),\n",
       " array(2.635863780975342, dtype=float32),\n",
       " array(2.6449971199035645, dtype=float32),\n",
       " array(2.642119884490967, dtype=float32),\n",
       " array(2.627563953399658, dtype=float32),\n",
       " array(2.637603282928467, dtype=float32),\n",
       " array(2.6247286796569824, dtype=float32),\n",
       " array(2.672008514404297, dtype=float32),\n",
       " array(2.6494245529174805, dtype=float32),\n",
       " array(2.627197742462158, dtype=float32),\n",
       " array(2.6425108909606934, dtype=float32),\n",
       " array(2.6473612785339355, dtype=float32),\n",
       " array(2.6280572414398193, dtype=float32),\n",
       " array(2.6302428245544434, dtype=float32),\n",
       " array(2.6377367973327637, dtype=float32),\n",
       " array(2.6082048416137695, dtype=float32),\n",
       " array(2.6215314865112305, dtype=float32),\n",
       " array(2.6301794052124023, dtype=float32),\n",
       " array(2.6410365104675293, dtype=float32),\n",
       " array(2.63547945022583, dtype=float32),\n",
       " array(2.6304845809936523, dtype=float32),\n",
       " array(2.616767406463623, dtype=float32),\n",
       " array(2.643747329711914, dtype=float32),\n",
       " array(2.644861936569214, dtype=float32),\n",
       " array(2.6180672645568848, dtype=float32),\n",
       " array(2.6523327827453613, dtype=float32),\n",
       " array(2.652740955352783, dtype=float32),\n",
       " array(2.630448341369629, dtype=float32),\n",
       " array(2.7109084129333496, dtype=float32),\n",
       " array(2.6433353424072266, dtype=float32),\n",
       " array(2.627030372619629, dtype=float32),\n",
       " array(2.6321797370910645, dtype=float32),\n",
       " array(2.619892120361328, dtype=float32),\n",
       " array(2.62235689163208, dtype=float32),\n",
       " array(2.671710968017578, dtype=float32),\n",
       " array(2.6298069953918457, dtype=float32),\n",
       " array(2.6286067962646484, dtype=float32),\n",
       " array(2.635495662689209, dtype=float32),\n",
       " array(2.6295759677886963, dtype=float32),\n",
       " array(2.6512725353240967, dtype=float32),\n",
       " array(2.6367154121398926, dtype=float32),\n",
       " array(2.6222686767578125, dtype=float32),\n",
       " array(2.695053815841675, dtype=float32),\n",
       " array(2.6258089542388916, dtype=float32),\n",
       " array(2.651845932006836, dtype=float32),\n",
       " array(2.6356053352355957, dtype=float32),\n",
       " array(2.664903163909912, dtype=float32),\n",
       " array(2.65745210647583, dtype=float32),\n",
       " array(2.6308979988098145, dtype=float32),\n",
       " array(2.6449923515319824, dtype=float32),\n",
       " array(2.6466729640960693, dtype=float32),\n",
       " array(2.6474921703338623, dtype=float32),\n",
       " array(2.647651195526123, dtype=float32),\n",
       " array(2.637399673461914, dtype=float32),\n",
       " array(2.635985851287842, dtype=float32),\n",
       " array(2.641627788543701, dtype=float32),\n",
       " array(2.6473333835601807, dtype=float32),\n",
       " array(2.6321444511413574, dtype=float32),\n",
       " array(2.653975486755371, dtype=float32),\n",
       " array(2.6408607959747314, dtype=float32),\n",
       " array(2.6349997520446777, dtype=float32),\n",
       " array(2.643319606781006, dtype=float32),\n",
       " array(2.640615463256836, dtype=float32),\n",
       " array(2.6352882385253906, dtype=float32),\n",
       " array(2.638087511062622, dtype=float32),\n",
       " array(2.634270668029785, dtype=float32),\n",
       " array(2.6442184448242188, dtype=float32),\n",
       " array(2.629512310028076, dtype=float32),\n",
       " array(2.6375558376312256, dtype=float32),\n",
       " array(2.6468143463134766, dtype=float32),\n",
       " array(2.631443977355957, dtype=float32),\n",
       " array(2.6317596435546875, dtype=float32),\n",
       " array(2.6465821266174316, dtype=float32),\n",
       " array(2.632305145263672, dtype=float32),\n",
       " array(2.6382882595062256, dtype=float32),\n",
       " array(2.6270205974578857, dtype=float32),\n",
       " array(2.6302812099456787, dtype=float32),\n",
       " array(2.6521334648132324, dtype=float32),\n",
       " array(2.6388795375823975, dtype=float32),\n",
       " array(2.626755714416504, dtype=float32),\n",
       " array(2.6278953552246094, dtype=float32),\n",
       " array(2.6220974922180176, dtype=float32),\n",
       " array(2.6207923889160156, dtype=float32),\n",
       " array(2.6308655738830566, dtype=float32),\n",
       " array(2.6439831256866455, dtype=float32),\n",
       " array(2.641035556793213, dtype=float32),\n",
       " array(2.6392948627471924, dtype=float32),\n",
       " array(2.6496729850769043, dtype=float32),\n",
       " array(2.6229934692382812, dtype=float32),\n",
       " array(2.6253480911254883, dtype=float32),\n",
       " array(2.63200044631958, dtype=float32),\n",
       " array(2.617494583129883, dtype=float32),\n",
       " array(2.730105400085449, dtype=float32),\n",
       " array(2.631495952606201, dtype=float32),\n",
       " array(2.6729836463928223, dtype=float32),\n",
       " array(2.6587607860565186, dtype=float32),\n",
       " array(2.636064052581787, dtype=float32),\n",
       " array(2.6271162033081055, dtype=float32),\n",
       " array(2.631957530975342, dtype=float32),\n",
       " array(2.6205155849456787, dtype=float32),\n",
       " array(2.6437573432922363, dtype=float32),\n",
       " array(2.6383607387542725, dtype=float32),\n",
       " array(2.645756483078003, dtype=float32),\n",
       " array(2.630392551422119, dtype=float32),\n",
       " array(2.658266067504883, dtype=float32),\n",
       " array(2.6223080158233643, dtype=float32),\n",
       " array(2.6510868072509766, dtype=float32),\n",
       " array(2.6458959579467773, dtype=float32),\n",
       " array(2.638176918029785, dtype=float32),\n",
       " array(2.6341395378112793, dtype=float32),\n",
       " array(2.6253952980041504, dtype=float32),\n",
       " array(2.6381659507751465, dtype=float32),\n",
       " array(2.6546292304992676, dtype=float32),\n",
       " array(2.627225399017334, dtype=float32),\n",
       " array(2.6240732669830322, dtype=float32),\n",
       " array(2.613844633102417, dtype=float32),\n",
       " array(2.634215831756592, dtype=float32),\n",
       " array(2.635627031326294, dtype=float32),\n",
       " array(2.61901593208313, dtype=float32),\n",
       " array(2.6868093013763428, dtype=float32),\n",
       " array(2.635998249053955, dtype=float32),\n",
       " array(2.644289970397949, dtype=float32),\n",
       " array(2.6219704151153564, dtype=float32),\n",
       " array(2.625542163848877, dtype=float32),\n",
       " array(2.63289213180542, dtype=float32),\n",
       " array(2.6062352657318115, dtype=float32),\n",
       " array(2.6243791580200195, dtype=float32),\n",
       " array(2.6216955184936523, dtype=float32),\n",
       " array(2.6441245079040527, dtype=float32),\n",
       " array(2.6363258361816406, dtype=float32),\n",
       " array(2.6321287155151367, dtype=float32),\n",
       " array(2.61887264251709, dtype=float32),\n",
       " array(2.6256752014160156, dtype=float32),\n",
       " array(2.6086654663085938, dtype=float32),\n",
       " array(2.6436424255371094, dtype=float32),\n",
       " array(2.63238263130188, dtype=float32),\n",
       " array(2.61686372756958, dtype=float32),\n",
       " array(2.638282299041748, dtype=float32),\n",
       " array(2.623518943786621, dtype=float32),\n",
       " array(2.6325089931488037, dtype=float32),\n",
       " array(2.6356282234191895, dtype=float32),\n",
       " array(2.6783194541931152, dtype=float32),\n",
       " array(2.625920295715332, dtype=float32),\n",
       " array(2.6333565711975098, dtype=float32),\n",
       " array(2.642395496368408, dtype=float32),\n",
       " array(2.7012979984283447, dtype=float32),\n",
       " array(2.6254448890686035, dtype=float32),\n",
       " array(2.6316282749176025, dtype=float32),\n",
       " array(2.623610019683838, dtype=float32),\n",
       " array(2.6276841163635254, dtype=float32),\n",
       " array(2.6292335987091064, dtype=float32),\n",
       " array(2.6328446865081787, dtype=float32),\n",
       " array(2.6212310791015625, dtype=float32),\n",
       " array(2.622297525405884, dtype=float32),\n",
       " array(2.6182589530944824, dtype=float32),\n",
       " array(2.6012048721313477, dtype=float32),\n",
       " array(2.619173526763916, dtype=float32),\n",
       " array(2.6413536071777344, dtype=float32),\n",
       " array(2.6454920768737793, dtype=float32),\n",
       " array(2.6400835514068604, dtype=float32),\n",
       " array(2.6124212741851807, dtype=float32),\n",
       " array(2.625267505645752, dtype=float32),\n",
       " array(2.6633925437927246, dtype=float32),\n",
       " array(2.646273136138916, dtype=float32),\n",
       " array(2.6190855503082275, dtype=float32),\n",
       " array(2.6399145126342773, dtype=float32),\n",
       " array(2.646538257598877, dtype=float32),\n",
       " array(2.6282405853271484, dtype=float32),\n",
       " array(2.618453025817871, dtype=float32),\n",
       " array(2.6246252059936523, dtype=float32),\n",
       " array(2.6149964332580566, dtype=float32),\n",
       " array(2.61132550239563, dtype=float32),\n",
       " array(2.613487958908081, dtype=float32),\n",
       " array(2.622546672821045, dtype=float32),\n",
       " array(2.641815662384033, dtype=float32),\n",
       " array(2.627131700515747, dtype=float32),\n",
       " array(2.6616477966308594, dtype=float32),\n",
       " array(2.6556038856506348, dtype=float32),\n",
       " array(2.6316170692443848, dtype=float32),\n",
       " array(2.619866371154785, dtype=float32),\n",
       " array(2.6337716579437256, dtype=float32),\n",
       " array(2.6320862770080566, dtype=float32),\n",
       " array(2.6075825691223145, dtype=float32),\n",
       " array(2.6176295280456543, dtype=float32),\n",
       " array(2.605621814727783, dtype=float32),\n",
       " array(2.665179967880249, dtype=float32),\n",
       " array(2.637444496154785, dtype=float32),\n",
       " array(2.6293792724609375, dtype=float32),\n",
       " array(2.627192497253418, dtype=float32),\n",
       " array(2.615701198577881, dtype=float32),\n",
       " array(2.6386032104492188, dtype=float32),\n",
       " array(2.6316287517547607, dtype=float32),\n",
       " array(2.606668472290039, dtype=float32),\n",
       " array(2.6127095222473145, dtype=float32),\n",
       " array(2.61905837059021, dtype=float32),\n",
       " array(2.624054193496704, dtype=float32),\n",
       " array(2.6092705726623535, dtype=float32),\n",
       " array(2.6194112300872803, dtype=float32),\n",
       " array(2.6363978385925293, dtype=float32),\n",
       " array(2.7102842330932617, dtype=float32),\n",
       " array(2.606016159057617, dtype=float32),\n",
       " array(2.6384096145629883, dtype=float32),\n",
       " array(2.624654531478882, dtype=float32),\n",
       " array(2.6371407508850098, dtype=float32),\n",
       " array(2.619443893432617, dtype=float32),\n",
       " array(2.6164770126342773, dtype=float32),\n",
       " array(2.6365580558776855, dtype=float32),\n",
       " array(2.6235623359680176, dtype=float32),\n",
       " array(2.614807367324829, dtype=float32),\n",
       " array(2.6224822998046875, dtype=float32),\n",
       " array(2.604281425476074, dtype=float32),\n",
       " array(2.6118974685668945, dtype=float32),\n",
       " array(2.6701791286468506, dtype=float32),\n",
       " array(2.6053431034088135, dtype=float32),\n",
       " array(2.6211581230163574, dtype=float32),\n",
       " array(2.630077838897705, dtype=float32),\n",
       " array(2.6404616832733154, dtype=float32),\n",
       " array(2.629697322845459, dtype=float32),\n",
       " array(2.602501153945923, dtype=float32),\n",
       " array(2.6182053089141846, dtype=float32),\n",
       " array(2.6267242431640625, dtype=float32),\n",
       " array(2.6180248260498047, dtype=float32),\n",
       " array(2.615771770477295, dtype=float32),\n",
       " array(2.6112847328186035, dtype=float32),\n",
       " array(2.689129114151001, dtype=float32),\n",
       " array(2.641448497772217, dtype=float32),\n",
       " array(2.622866153717041, dtype=float32),\n",
       " array(2.622231960296631, dtype=float32),\n",
       " array(2.624309539794922, dtype=float32),\n",
       " array(2.6100783348083496, dtype=float32),\n",
       " array(2.6187658309936523, dtype=float32),\n",
       " array(2.6160669326782227, dtype=float32),\n",
       " array(2.6124789714813232, dtype=float32),\n",
       " array(2.6950244903564453, dtype=float32),\n",
       " array(2.618428945541382, dtype=float32),\n",
       " array(2.6102683544158936, dtype=float32),\n",
       " array(2.61047625541687, dtype=float32),\n",
       " array(2.6024699211120605, dtype=float32),\n",
       " array(2.638580799102783, dtype=float32),\n",
       " array(2.5685348510742188, dtype=float32),\n",
       " array(2.5868194103240967, dtype=float32),\n",
       " array(2.610452651977539, dtype=float32),\n",
       " array(2.6052467823028564, dtype=float32),\n",
       " array(2.594587802886963, dtype=float32),\n",
       " array(2.6089396476745605, dtype=float32),\n",
       " array(2.5962653160095215, dtype=float32),\n",
       " array(2.6254897117614746, dtype=float32),\n",
       " array(2.610624074935913, dtype=float32),\n",
       " array(2.7014894485473633, dtype=float32),\n",
       " array(2.6868348121643066, dtype=float32),\n",
       " array(2.623262405395508, dtype=float32),\n",
       " array(2.624124526977539, dtype=float32),\n",
       " array(2.6039843559265137, dtype=float32),\n",
       " array(2.6100428104400635, dtype=float32),\n",
       " array(2.5989773273468018, dtype=float32),\n",
       " array(2.6054394245147705, dtype=float32),\n",
       " array(2.584303855895996, dtype=float32),\n",
       " array(2.6111791133880615, dtype=float32),\n",
       " array(2.5877535343170166, dtype=float32),\n",
       " array(2.6028664112091064, dtype=float32),\n",
       " array(2.610762119293213, dtype=float32),\n",
       " array(2.6027374267578125, dtype=float32),\n",
       " array(2.6725194454193115, dtype=float32),\n",
       " array(2.6988515853881836, dtype=float32),\n",
       " array(2.5925116539001465, dtype=float32),\n",
       " array(2.6046559810638428, dtype=float32),\n",
       " array(2.6120150089263916, dtype=float32),\n",
       " array(2.622121572494507, dtype=float32),\n",
       " array(2.57413387298584, dtype=float32),\n",
       " array(2.6457674503326416, dtype=float32),\n",
       " array(2.612971305847168, dtype=float32),\n",
       " array(2.6649329662323, dtype=float32),\n",
       " array(2.605950355529785, dtype=float32),\n",
       " array(2.6304168701171875, dtype=float32),\n",
       " array(2.6019434928894043, dtype=float32),\n",
       " array(2.583665609359741, dtype=float32),\n",
       " array(2.5804200172424316, dtype=float32),\n",
       " array(2.5960991382598877, dtype=float32),\n",
       " array(2.619406223297119, dtype=float32),\n",
       " array(2.5917534828186035, dtype=float32),\n",
       " array(2.5996294021606445, dtype=float32),\n",
       " array(2.6378657817840576, dtype=float32),\n",
       " array(2.5836546421051025, dtype=float32),\n",
       " array(2.594363212585449, dtype=float32),\n",
       " array(2.6236801147460938, dtype=float32),\n",
       " array(2.6065614223480225, dtype=float32),\n",
       " array(2.5669078826904297, dtype=float32),\n",
       " array(2.6228761672973633, dtype=float32),\n",
       " array(2.648735761642456, dtype=float32),\n",
       " array(2.697061061859131, dtype=float32),\n",
       " array(2.5880959033966064, dtype=float32),\n",
       " array(2.615980625152588, dtype=float32),\n",
       " array(2.6054444313049316, dtype=float32),\n",
       " array(2.612644672393799, dtype=float32),\n",
       " array(2.6197071075439453, dtype=float32),\n",
       " array(2.584530830383301, dtype=float32),\n",
       " array(2.569728374481201, dtype=float32),\n",
       " array(2.569401979446411, dtype=float32),\n",
       " array(2.586678981781006, dtype=float32),\n",
       " array(2.600682020187378, dtype=float32),\n",
       " array(2.5929148197174072, dtype=float32),\n",
       " array(2.5754239559173584, dtype=float32),\n",
       " array(2.614436149597168, dtype=float32),\n",
       " array(2.576392650604248, dtype=float32),\n",
       " array(2.695952892303467, dtype=float32),\n",
       " array(2.6474757194519043, dtype=float32),\n",
       " array(2.600466251373291, dtype=float32),\n",
       " array(2.596395492553711, dtype=float32),\n",
       " array(2.6118836402893066, dtype=float32),\n",
       " array(2.5990757942199707, dtype=float32),\n",
       " array(2.577120304107666, dtype=float32),\n",
       " array(2.598132848739624, dtype=float32),\n",
       " array(2.6021037101745605, dtype=float32),\n",
       " array(2.5866875648498535, dtype=float32),\n",
       " array(2.6027560234069824, dtype=float32),\n",
       " array(2.669524669647217, dtype=float32),\n",
       " array(2.596229076385498, dtype=float32),\n",
       " array(2.5942230224609375, dtype=float32),\n",
       " array(2.584731340408325, dtype=float32),\n",
       " array(2.6269192695617676, dtype=float32),\n",
       " array(2.5611979961395264, dtype=float32),\n",
       " array(2.6093382835388184, dtype=float32),\n",
       " array(2.5953927040100098, dtype=float32),\n",
       " array(2.602795124053955, dtype=float32),\n",
       " array(2.585974931716919, dtype=float32),\n",
       " array(2.551321029663086, dtype=float32),\n",
       " array(2.630697250366211, dtype=float32),\n",
       " array(2.611647844314575, dtype=float32),\n",
       " array(2.5855987071990967, dtype=float32),\n",
       " array(2.552178382873535, dtype=float32),\n",
       " array(2.5476455688476562, dtype=float32),\n",
       " array(2.581080436706543, dtype=float32),\n",
       " array(2.6021199226379395, dtype=float32),\n",
       " array(2.5826311111450195, dtype=float32),\n",
       " array(2.577580213546753, dtype=float32),\n",
       " array(2.66892409324646, dtype=float32),\n",
       " array(2.623436450958252, dtype=float32),\n",
       " array(2.6041505336761475, dtype=float32),\n",
       " array(2.6357953548431396, dtype=float32),\n",
       " array(2.5641651153564453, dtype=float32),\n",
       " array(2.6007821559906006, dtype=float32),\n",
       " array(2.5868279933929443, dtype=float32),\n",
       " array(2.5920286178588867, dtype=float32),\n",
       " array(2.597356081008911, dtype=float32),\n",
       " array(2.565976142883301, dtype=float32),\n",
       " array(2.5524823665618896, dtype=float32),\n",
       " array(2.604381799697876, dtype=float32),\n",
       " array(2.541381359100342, dtype=float32),\n",
       " array(2.5747604370117188, dtype=float32),\n",
       " array(2.5582668781280518, dtype=float32),\n",
       " array(2.5821619033813477, dtype=float32),\n",
       " array(2.594877243041992, dtype=float32),\n",
       " array(2.57216215133667, dtype=float32),\n",
       " array(2.5816822052001953, dtype=float32),\n",
       " array(2.5948987007141113, dtype=float32),\n",
       " array(2.580329179763794, dtype=float32),\n",
       " array(2.5756373405456543, dtype=float32),\n",
       " array(2.5703365802764893, dtype=float32),\n",
       " array(2.585202217102051, dtype=float32),\n",
       " array(2.5835483074188232, dtype=float32),\n",
       " array(2.590068817138672, dtype=float32),\n",
       " array(2.5594325065612793, dtype=float32),\n",
       " array(2.57137131690979, dtype=float32),\n",
       " array(2.6016058921813965, dtype=float32),\n",
       " array(2.4904489517211914, dtype=float32),\n",
       " array(2.5722317695617676, dtype=float32),\n",
       " array(2.582962989807129, dtype=float32),\n",
       " array(2.561039447784424, dtype=float32),\n",
       " array(2.562502384185791, dtype=float32),\n",
       " array(2.5734951496124268, dtype=float32),\n",
       " array(2.586709976196289, dtype=float32),\n",
       " array(2.5688297748565674, dtype=float32),\n",
       " array(2.625333309173584, dtype=float32),\n",
       " array(2.6128268241882324, dtype=float32),\n",
       " array(2.7182106971740723, dtype=float32),\n",
       " array(2.5690932273864746, dtype=float32),\n",
       " array(2.5628018379211426, dtype=float32),\n",
       " array(2.5257792472839355, dtype=float32),\n",
       " array(2.616187810897827, dtype=float32),\n",
       " array(2.599437952041626, dtype=float32),\n",
       " array(2.544135808944702, dtype=float32),\n",
       " array(2.5466861724853516, dtype=float32),\n",
       " array(2.5923240184783936, dtype=float32),\n",
       " array(2.57666015625, dtype=float32),\n",
       " array(2.5808892250061035, dtype=float32),\n",
       " array(2.529798746109009, dtype=float32),\n",
       " array(2.636361837387085, dtype=float32),\n",
       " array(2.550062656402588, dtype=float32),\n",
       " array(2.5690529346466064, dtype=float32),\n",
       " array(2.5043625831604004, dtype=float32),\n",
       " array(2.5154829025268555, dtype=float32),\n",
       " array(2.696002960205078, dtype=float32),\n",
       " array(2.4795360565185547, dtype=float32),\n",
       " array(2.485400676727295, dtype=float32),\n",
       " array(2.582676887512207, dtype=float32),\n",
       " array(2.5581154823303223, dtype=float32),\n",
       " array(2.5675950050354004, dtype=float32),\n",
       " array(2.5350399017333984, dtype=float32),\n",
       " array(2.5688436031341553, dtype=float32),\n",
       " array(2.5728752613067627, dtype=float32),\n",
       " array(2.5594358444213867, dtype=float32),\n",
       " array(2.553722620010376, dtype=float32),\n",
       " array(2.544131278991699, dtype=float32),\n",
       " array(2.7016329765319824, dtype=float32),\n",
       " array(2.4920544624328613, dtype=float32),\n",
       " array(2.507162570953369, dtype=float32),\n",
       " array(2.5427637100219727, dtype=float32),\n",
       " array(2.513831615447998, dtype=float32),\n",
       " array(2.557875871658325, dtype=float32),\n",
       " array(2.6281330585479736, dtype=float32),\n",
       " array(2.5244579315185547, dtype=float32),\n",
       " array(2.645744800567627, dtype=float32),\n",
       " array(2.487931728363037, dtype=float32),\n",
       " array(2.514195442199707, dtype=float32),\n",
       " array(2.584144115447998, dtype=float32),\n",
       " array(2.5644826889038086, dtype=float32),\n",
       " array(2.5894083976745605, dtype=float32),\n",
       " array(2.580455780029297, dtype=float32),\n",
       " array(2.470890522003174, dtype=float32),\n",
       " array(2.5020365715026855, dtype=float32),\n",
       " array(2.5442700386047363, dtype=float32),\n",
       " array(2.56152081489563, dtype=float32),\n",
       " array(2.4882214069366455, dtype=float32),\n",
       " array(2.653794288635254, dtype=float32),\n",
       " array(2.5332179069519043, dtype=float32),\n",
       " array(2.5526657104492188, dtype=float32),\n",
       " array(2.4418838024139404, dtype=float32),\n",
       " array(2.5197973251342773, dtype=float32),\n",
       " array(2.493135690689087, dtype=float32),\n",
       " array(2.481804370880127, dtype=float32),\n",
       " array(2.6061697006225586, dtype=float32),\n",
       " array(2.4104528427124023, dtype=float32),\n",
       " array(2.5229828357696533, dtype=float32),\n",
       " array(2.462747812271118, dtype=float32),\n",
       " array(2.479602336883545, dtype=float32),\n",
       " array(2.4148972034454346, dtype=float32),\n",
       " array(2.609708070755005, dtype=float32),\n",
       " array(2.478351593017578, dtype=float32),\n",
       " array(2.5765769481658936, dtype=float32),\n",
       " array(2.5745508670806885, dtype=float32),\n",
       " array(2.5641188621520996, dtype=float32),\n",
       " array(2.472627639770508, dtype=float32),\n",
       " array(2.3722732067108154, dtype=float32),\n",
       " array(2.6343042850494385, dtype=float32),\n",
       " array(2.4979662895202637, dtype=float32),\n",
       " array(2.5796191692352295, dtype=float32),\n",
       " array(2.451136589050293, dtype=float32),\n",
       " array(2.5277483463287354, dtype=float32),\n",
       " array(2.4921395778656006, dtype=float32),\n",
       " array(2.4135043621063232, dtype=float32),\n",
       " array(2.515594005584717, dtype=float32),\n",
       " array(2.564974308013916, dtype=float32),\n",
       " array(2.5567150115966797, dtype=float32),\n",
       " array(2.4625513553619385, dtype=float32),\n",
       " array(2.424943447113037, dtype=float32),\n",
       " array(2.528280735015869, dtype=float32),\n",
       " array(2.4569878578186035, dtype=float32),\n",
       " array(2.479517936706543, dtype=float32),\n",
       " array(2.4499800205230713, dtype=float32),\n",
       " array(2.503448486328125, dtype=float32),\n",
       " array(2.4213876724243164, dtype=float32),\n",
       " array(2.439441680908203, dtype=float32),\n",
       " array(2.52219295501709, dtype=float32),\n",
       " array(2.4117608070373535, dtype=float32),\n",
       " array(2.467988967895508, dtype=float32),\n",
       " array(2.4103338718414307, dtype=float32),\n",
       " array(2.5248889923095703, dtype=float32),\n",
       " array(2.6774022579193115, dtype=float32),\n",
       " array(2.4053194522857666, dtype=float32),\n",
       " array(2.5065219402313232, dtype=float32),\n",
       " array(2.5902042388916016, dtype=float32),\n",
       " array(2.5458593368530273, dtype=float32),\n",
       " array(2.4483184814453125, dtype=float32),\n",
       " array(2.490142345428467, dtype=float32),\n",
       " array(2.510605812072754, dtype=float32),\n",
       " array(2.480360746383667, dtype=float32),\n",
       " array(2.467214584350586, dtype=float32),\n",
       " array(2.519369602203369, dtype=float32),\n",
       " array(2.4998438358306885, dtype=float32),\n",
       " array(2.4825305938720703, dtype=float32),\n",
       " array(2.3964076042175293, dtype=float32),\n",
       " array(2.410964012145996, dtype=float32),\n",
       " array(2.50321364402771, dtype=float32),\n",
       " array(2.374100685119629, dtype=float32),\n",
       " array(2.515810012817383, dtype=float32),\n",
       " array(2.4559824466705322, dtype=float32),\n",
       " array(2.4445838928222656, dtype=float32),\n",
       " array(2.4298481941223145, dtype=float32),\n",
       " array(2.4498767852783203, dtype=float32),\n",
       " array(2.429807662963867, dtype=float32),\n",
       " array(2.617021083831787, dtype=float32),\n",
       " array(2.474606990814209, dtype=float32),\n",
       " array(2.4147043228149414, dtype=float32),\n",
       " array(2.4971065521240234, dtype=float32),\n",
       " array(2.573530912399292, dtype=float32),\n",
       " array(2.4210824966430664, dtype=float32),\n",
       " array(2.3694887161254883, dtype=float32),\n",
       " array(2.416961193084717, dtype=float32),\n",
       " array(2.40869140625, dtype=float32),\n",
       " array(2.392172336578369, dtype=float32),\n",
       " array(2.4360029697418213, dtype=float32),\n",
       " array(2.4292569160461426, dtype=float32),\n",
       " array(2.458512783050537, dtype=float32),\n",
       " array(2.2817349433898926, dtype=float32),\n",
       " array(2.3790431022644043, dtype=float32),\n",
       " array(2.430601119995117, dtype=float32),\n",
       " array(2.4359264373779297, dtype=float32),\n",
       " array(2.4031739234924316, dtype=float32),\n",
       " array(9.655340194702148, dtype=float32),\n",
       " array(2.3973641395568848, dtype=float32),\n",
       " array(2.424445152282715, dtype=float32),\n",
       " array(2.633310317993164, dtype=float32),\n",
       " array(2.4682250022888184, dtype=float32),\n",
       " array(2.4324910640716553, dtype=float32),\n",
       " array(2.34267258644104, dtype=float32),\n",
       " array(2.360079050064087, dtype=float32),\n",
       " array(2.2807605266571045, dtype=float32),\n",
       " array(5.744349479675293, dtype=float32),\n",
       " array(2.4309158325195312, dtype=float32),\n",
       " array(2.400413990020752, dtype=float32),\n",
       " array(2.548733711242676, dtype=float32),\n",
       " array(2.3756937980651855, dtype=float32),\n",
       " array(2.55096173286438, dtype=float32),\n",
       " array(2.383821487426758, dtype=float32),\n",
       " array(2.3415913581848145, dtype=float32),\n",
       " array(2.392779588699341, dtype=float32),\n",
       " array(2.363502025604248, dtype=float32),\n",
       " array(2.541207790374756, dtype=float32),\n",
       " array(2.546274185180664, dtype=float32),\n",
       " array(2.5195655822753906, dtype=float32),\n",
       " array(2.3226869106292725, dtype=float32),\n",
       " array(2.356912612915039, dtype=float32),\n",
       " array(2.541273832321167, dtype=float32),\n",
       " array(2.5182557106018066, dtype=float32),\n",
       " array(2.3679327964782715, dtype=float32),\n",
       " array(2.3571465015411377, dtype=float32),\n",
       " array(2.512585401535034, dtype=float32),\n",
       " array(2.426504135131836, dtype=float32),\n",
       " array(2.5133535861968994, dtype=float32),\n",
       " array(2.2358546257019043, dtype=float32),\n",
       " array(2.3499279022216797, dtype=float32),\n",
       " array(2.384873390197754, dtype=float32),\n",
       " array(2.5073535442352295, dtype=float32),\n",
       " array(2.4881672859191895, dtype=float32),\n",
       " array(2.385554313659668, dtype=float32),\n",
       " array(2.3587517738342285, dtype=float32),\n",
       " array(2.4389736652374268, dtype=float32),\n",
       " array(2.374150037765503, dtype=float32),\n",
       " array(2.3966007232666016, dtype=float32),\n",
       " array(2.3743298053741455, dtype=float32),\n",
       " array(2.3990159034729004, dtype=float32),\n",
       " array(2.4425559043884277, dtype=float32),\n",
       " array(2.3220319747924805, dtype=float32),\n",
       " array(2.3450469970703125, dtype=float32),\n",
       " array(2.4786417484283447, dtype=float32),\n",
       " array(2.3766283988952637, dtype=float32),\n",
       " array(2.4183058738708496, dtype=float32),\n",
       " array(2.309583902359009, dtype=float32),\n",
       " array(2.3191657066345215, dtype=float32),\n",
       " array(2.486349105834961, dtype=float32),\n",
       " array(2.4519119262695312, dtype=float32),\n",
       " array(2.362797260284424, dtype=float32),\n",
       " array(2.287733554840088, dtype=float32),\n",
       " array(2.4788880348205566, dtype=float32),\n",
       " array(2.312692165374756, dtype=float32),\n",
       " array(2.3304460048675537, dtype=float32),\n",
       " array(2.470557689666748, dtype=float32),\n",
       " array(2.427700996398926, dtype=float32),\n",
       " array(2.3693318367004395, dtype=float32),\n",
       " array(2.373701572418213, dtype=float32),\n",
       " array(2.371613025665283, dtype=float32),\n",
       " array(2.257014513015747, dtype=float32),\n",
       " array(2.1718931198120117, dtype=float32),\n",
       " array(2.035074472427368, dtype=float32),\n",
       " array(3.8479323387145996, dtype=float32),\n",
       " array(2.2806715965270996, dtype=float32),\n",
       " array(2.3781583309173584, dtype=float32),\n",
       " array(2.4041037559509277, dtype=float32),\n",
       " array(2.1717381477355957, dtype=float32),\n",
       " array(2.4195315837860107, dtype=float32),\n",
       " array(2.2317848205566406, dtype=float32),\n",
       " array(2.3108229637145996, dtype=float32),\n",
       " array(2.318202495574951, dtype=float32),\n",
       " array(2.300447463989258, dtype=float32),\n",
       " array(2.4731287956237793, dtype=float32),\n",
       " array(2.353322982788086, dtype=float32),\n",
       " array(2.503854751586914, dtype=float32),\n",
       " array(2.5068349838256836, dtype=float32),\n",
       " array(2.3640217781066895, dtype=float32),\n",
       " array(2.332728862762451, dtype=float32),\n",
       " array(2.376929521560669, dtype=float32),\n",
       " array(2.365543842315674, dtype=float32),\n",
       " array(2.3141045570373535, dtype=float32),\n",
       " array(2.3228330612182617, dtype=float32),\n",
       " array(2.335336446762085, dtype=float32),\n",
       " array(2.4157843589782715, dtype=float32),\n",
       " array(2.4984045028686523, dtype=float32),\n",
       " array(2.3100333213806152, dtype=float32),\n",
       " array(2.3718442916870117, dtype=float32),\n",
       " array(2.182002544403076, dtype=float32),\n",
       " array(2.252023696899414, dtype=float32),\n",
       " array(7.096681594848633, dtype=float32),\n",
       " array(2.252923011779785, dtype=float32),\n",
       " array(2.3708608150482178, dtype=float32),\n",
       " array(2.2746148109436035, dtype=float32),\n",
       " array(2.2664196491241455, dtype=float32),\n",
       " array(2.351734161376953, dtype=float32),\n",
       " array(2.5993704795837402, dtype=float32),\n",
       " array(2.4190218448638916, dtype=float32),\n",
       " array(2.288968563079834, dtype=float32),\n",
       " array(2.422913074493408, dtype=float32),\n",
       " array(2.361565351486206, dtype=float32),\n",
       " array(2.474639654159546, dtype=float32),\n",
       " array(2.446424961090088, dtype=float32),\n",
       " array(2.342773914337158, dtype=float32),\n",
       " array(2.0316061973571777, dtype=float32),\n",
       " array(2.3682167530059814, dtype=float32),\n",
       " array(2.476104497909546, dtype=float32),\n",
       " array(2.323517084121704, dtype=float32),\n",
       " array(2.5175256729125977, dtype=float32),\n",
       " array(2.244295358657837, dtype=float32),\n",
       " array(2.4573726654052734, dtype=float32),\n",
       " array(2.4139950275421143, dtype=float32),\n",
       " array(2.3202199935913086, dtype=float32),\n",
       " array(2.2531380653381348, dtype=float32),\n",
       " array(2.3667540550231934, dtype=float32),\n",
       " array(2.336045503616333, dtype=float32),\n",
       " array(2.22745680809021, dtype=float32),\n",
       " array(2.2680160999298096, dtype=float32),\n",
       " array(2.2485132217407227, dtype=float32),\n",
       " array(2.185974597930908, dtype=float32),\n",
       " array(2.3015763759613037, dtype=float32),\n",
       " array(2.3634040355682373, dtype=float32),\n",
       " array(2.2689647674560547, dtype=float32),\n",
       " array(2.2539191246032715, dtype=float32),\n",
       " array(2.2593321800231934, dtype=float32),\n",
       " array(2.2200193405151367, dtype=float32),\n",
       " array(2.321357250213623, dtype=float32),\n",
       " array(2.1885058879852295, dtype=float32),\n",
       " array(2.302021026611328, dtype=float32),\n",
       " array(2.445127487182617, dtype=float32),\n",
       " array(2.2855381965637207, dtype=float32),\n",
       " array(2.110182762145996, dtype=float32),\n",
       " array(2.3111841678619385, dtype=float32),\n",
       " array(2.246141195297241, dtype=float32),\n",
       " array(2.255411386489868, dtype=float32),\n",
       " array(2.345036506652832, dtype=float32),\n",
       " array(2.173828125, dtype=float32),\n",
       " array(2.0917906761169434, dtype=float32),\n",
       " array(2.1784143447875977, dtype=float32),\n",
       " array(2.2958643436431885, dtype=float32),\n",
       " array(1.9895069599151611, dtype=float32),\n",
       " array(7.866487979888916, dtype=float32),\n",
       " array(2.304680109024048, dtype=float32),\n",
       " array(2.0900635719299316, dtype=float32),\n",
       " array(2.6804096698760986, dtype=float32),\n",
       " array(2.1751534938812256, dtype=float32),\n",
       " array(2.4493672847747803, dtype=float32),\n",
       " array(2.096444606781006, dtype=float32),\n",
       " array(2.069045066833496, dtype=float32),\n",
       " array(2.342885732650757, dtype=float32),\n",
       " array(2.418548583984375, dtype=float32),\n",
       " array(2.249204635620117, dtype=float32),\n",
       " array(2.255319595336914, dtype=float32),\n",
       " array(2.1556460857391357, dtype=float32),\n",
       " array(2.192955732345581, dtype=float32),\n",
       " array(2.176276683807373, dtype=float32),\n",
       " array(2.1695709228515625, dtype=float32),\n",
       " array(2.1550068855285645, dtype=float32),\n",
       " array(3.168750286102295, dtype=float32),\n",
       " array(2.054478645324707, dtype=float32),\n",
       " array(2.1767940521240234, dtype=float32),\n",
       " array(2.0311203002929688, dtype=float32),\n",
       " array(2.185988664627075, dtype=float32),\n",
       " array(2.226076602935791, dtype=float32),\n",
       " array(2.1311025619506836, dtype=float32),\n",
       " array(2.2940211296081543, dtype=float32),\n",
       " array(2.0271337032318115, dtype=float32),\n",
       " array(2.3452982902526855, dtype=float32),\n",
       " array(2.25386118888855, dtype=float32),\n",
       " array(2.196359157562256, dtype=float32),\n",
       " array(2.0855369567871094, dtype=float32),\n",
       " array(2.1463568210601807, dtype=float32),\n",
       " array(2.319087028503418, dtype=float32),\n",
       " array(2.329305410385132, dtype=float32),\n",
       " array(2.2880425453186035, dtype=float32),\n",
       " array(2.4218530654907227, dtype=float32),\n",
       " array(2.233855962753296, dtype=float32),\n",
       " array(2.4685511589050293, dtype=float32),\n",
       " array(2.0478668212890625, dtype=float32),\n",
       " array(2.0658884048461914, dtype=float32),\n",
       " array(2.2291462421417236, dtype=float32),\n",
       " array(2.4197707176208496, dtype=float32),\n",
       " array(2.1158604621887207, dtype=float32),\n",
       " array(2.0573649406433105, dtype=float32),\n",
       " array(2.3159618377685547, dtype=float32),\n",
       " array(2.0720367431640625, dtype=float32),\n",
       " array(2.231243371963501, dtype=float32),\n",
       " array(2.1477158069610596, dtype=float32),\n",
       " array(2.278653383255005, dtype=float32),\n",
       " array(1.9720666408538818, dtype=float32),\n",
       " array(2.1341447830200195, dtype=float32),\n",
       " array(1.9254518747329712, dtype=float32),\n",
       " array(2.126026153564453, dtype=float32),\n",
       " array(2.089510440826416, dtype=float32),\n",
       " array(2.1090328693389893, dtype=float32),\n",
       " array(2.213628053665161, dtype=float32),\n",
       " array(2.048921585083008, dtype=float32),\n",
       " array(1.9978340864181519, dtype=float32),\n",
       " array(2.0062639713287354, dtype=float32),\n",
       " array(2.0031871795654297, dtype=float32),\n",
       " array(2.3805460929870605, dtype=float32),\n",
       " array(2.5500636100769043, dtype=float32),\n",
       " array(2.1596693992614746, dtype=float32),\n",
       " array(2.210484027862549, dtype=float32),\n",
       " array(2.3389930725097656, dtype=float32),\n",
       " array(2.1658284664154053, dtype=float32),\n",
       " array(2.004723072052002, dtype=float32),\n",
       " array(1.8524441719055176, dtype=float32),\n",
       " array(1.9586492776870728, dtype=float32),\n",
       " array(2.275496006011963, dtype=float32),\n",
       " array(2.077331066131592, dtype=float32),\n",
       " array(2.0279412269592285, dtype=float32),\n",
       " array(1.7246125936508179, dtype=float32),\n",
       " array(3.7806577682495117, dtype=float32),\n",
       " array(2.362602710723877, dtype=float32),\n",
       " array(2.252727508544922, dtype=float32),\n",
       " array(1.958329200744629, dtype=float32),\n",
       " array(1.9924075603485107, dtype=float32),\n",
       " array(1.9180420637130737, dtype=float32),\n",
       " array(1.9136450290679932, dtype=float32),\n",
       " array(1.786239504814148, dtype=float32),\n",
       " array(2.5574374198913574, dtype=float32),\n",
       " array(2.960327386856079, dtype=float32),\n",
       " array(2.2161428928375244, dtype=float32),\n",
       " array(2.016610622406006, dtype=float32),\n",
       " array(1.982360601425171, dtype=float32),\n",
       " array(2.1730074882507324, dtype=float32),\n",
       " array(2.0785844326019287, dtype=float32),\n",
       " array(2.1318488121032715, dtype=float32),\n",
       " array(2.060576915740967, dtype=float32),\n",
       " array(2.272585391998291, dtype=float32),\n",
       " array(2.1606032848358154, dtype=float32),\n",
       " array(1.9998624324798584, dtype=float32),\n",
       " array(2.3129465579986572, dtype=float32),\n",
       " array(2.025811195373535, dtype=float32),\n",
       " array(2.239577293395996, dtype=float32),\n",
       " array(1.9837005138397217, dtype=float32),\n",
       " array(2.206829071044922, dtype=float32),\n",
       " array(1.9863773584365845, dtype=float32),\n",
       " array(2.0679562091827393, dtype=float32),\n",
       " array(1.9943711757659912, dtype=float32),\n",
       " array(1.92794668674469, dtype=float32),\n",
       " array(1.9071511030197144, dtype=float32),\n",
       " array(1.794204831123352, dtype=float32),\n",
       " array(1.8330111503601074, dtype=float32),\n",
       " array(1.8239067792892456, dtype=float32),\n",
       " array(2.047515392303467, dtype=float32),\n",
       " array(1.9832813739776611, dtype=float32),\n",
       " array(1.9817535877227783, dtype=float32),\n",
       " array(1.970232605934143, dtype=float32),\n",
       " array(1.8439826965332031, dtype=float32),\n",
       " array(1.930066704750061, dtype=float32),\n",
       " array(2.059431314468384, dtype=float32),\n",
       " array(2.174877166748047, dtype=float32),\n",
       " array(1.942259669303894, dtype=float32),\n",
       " array(1.9516786336898804, dtype=float32),\n",
       " array(1.7707421779632568, dtype=float32),\n",
       " array(1.774067759513855, dtype=float32),\n",
       " array(1.801852822303772, dtype=float32),\n",
       " array(2.1614513397216797, dtype=float32),\n",
       " array(1.8412699699401855, dtype=float32),\n",
       " array(1.715914249420166, dtype=float32),\n",
       " array(1.711277723312378, dtype=float32),\n",
       " array(1.7212953567504883, dtype=float32),\n",
       " array(1.6999306678771973, dtype=float32),\n",
       " array(1.7387615442276, dtype=float32),\n",
       " array(1.7467315196990967, dtype=float32),\n",
       " array(1.7388148307800293, dtype=float32),\n",
       " array(1.7358245849609375, dtype=float32),\n",
       " array(1.649712324142456, dtype=float32),\n",
       " array(1.6312507390975952, dtype=float32),\n",
       " array(1.5190138816833496, dtype=float32),\n",
       " array(1.5879629850387573, dtype=float32),\n",
       " array(1.8735144138336182, dtype=float32),\n",
       " array(1.9413386583328247, dtype=float32),\n",
       " array(1.8223341703414917, dtype=float32),\n",
       " array(1.7854324579238892, dtype=float32),\n",
       " array(1.8546619415283203, dtype=float32),\n",
       " array(1.868415355682373, dtype=float32),\n",
       " array(1.8393745422363281, dtype=float32),\n",
       " array(1.9352962970733643, dtype=float32),\n",
       " array(1.8331620693206787, dtype=float32),\n",
       " array(2.05104923248291, dtype=float32),\n",
       " array(1.785866379737854, dtype=float32),\n",
       " array(2.04388427734375, dtype=float32),\n",
       " array(1.7598838806152344, dtype=float32),\n",
       " array(1.5752711296081543, dtype=float32),\n",
       " array(1.4494946002960205, dtype=float32),\n",
       " array(1.68621826171875, dtype=float32),\n",
       " array(1.624719262123108, dtype=float32),\n",
       " array(2.144115447998047, dtype=float32),\n",
       " array(2.0128092765808105, dtype=float32),\n",
       " array(1.9168225526809692, dtype=float32),\n",
       " array(1.7369983196258545, dtype=float32),\n",
       " array(2.4053800106048584, dtype=float32),\n",
       " array(1.786228060722351, dtype=float32),\n",
       " array(1.7497835159301758, dtype=float32),\n",
       " array(2.123011827468872, dtype=float32),\n",
       " array(1.7768850326538086, dtype=float32),\n",
       " array(1.7788043022155762, dtype=float32),\n",
       " array(1.6314185857772827, dtype=float32),\n",
       " array(1.8234518766403198, dtype=float32),\n",
       " array(1.7314542531967163, dtype=float32),\n",
       " array(1.6807149648666382, dtype=float32),\n",
       " array(1.8048467636108398, dtype=float32),\n",
       " array(1.4732681512832642, dtype=float32),\n",
       " array(2.495415687561035, dtype=float32),\n",
       " array(1.918135404586792, dtype=float32),\n",
       " array(1.8500361442565918, dtype=float32),\n",
       " array(1.638354778289795, dtype=float32),\n",
       " array(1.6725138425827026, dtype=float32),\n",
       " array(1.8285000324249268, dtype=float32),\n",
       " array(1.6872472763061523, dtype=float32),\n",
       " array(1.7599208354949951, dtype=float32),\n",
       " array(1.7782437801361084, dtype=float32),\n",
       " array(1.5981762409210205, dtype=float32),\n",
       " array(1.7085466384887695, dtype=float32),\n",
       " array(1.4973081350326538, dtype=float32),\n",
       " array(1.5968260765075684, dtype=float32),\n",
       " array(1.925768256187439, dtype=float32),\n",
       " array(1.9594041109085083, dtype=float32),\n",
       " array(3.202805995941162, dtype=float32),\n",
       " array(2.1446290016174316, dtype=float32),\n",
       " array(2.0161852836608887, dtype=float32),\n",
       " array(1.812645435333252, dtype=float32),\n",
       " array(1.8362226486206055, dtype=float32),\n",
       " array(1.8579307794570923, dtype=float32),\n",
       " array(1.9518043994903564, dtype=float32),\n",
       " array(1.9509040117263794, dtype=float32),\n",
       " array(1.880711555480957, dtype=float32),\n",
       " array(1.781911015510559, dtype=float32),\n",
       " array(1.7515509128570557, dtype=float32),\n",
       " array(2.144443988800049, dtype=float32),\n",
       " array(2.027719259262085, dtype=float32),\n",
       " array(1.7484071254730225, dtype=float32),\n",
       " array(2.1827735900878906, dtype=float32),\n",
       " array(1.98722505569458, dtype=float32),\n",
       " array(1.9938828945159912, dtype=float32),\n",
       " array(2.0768585205078125, dtype=float32),\n",
       " array(1.961982011795044, dtype=float32),\n",
       " array(1.8926368951797485, dtype=float32),\n",
       " array(1.8961973190307617, dtype=float32),\n",
       " array(1.9607234001159668, dtype=float32),\n",
       " array(1.8996179103851318, dtype=float32),\n",
       " array(1.7854496240615845, dtype=float32),\n",
       " array(1.806480884552002, dtype=float32),\n",
       " array(1.7728815078735352, dtype=float32),\n",
       " array(1.7255933284759521, dtype=float32),\n",
       " array(1.7740259170532227, dtype=float32),\n",
       " array(1.6654853820800781, dtype=float32),\n",
       " array(1.8213050365447998, dtype=float32),\n",
       " array(1.643694519996643, dtype=float32),\n",
       " array(1.6451609134674072, dtype=float32),\n",
       " array(1.8644641637802124, dtype=float32),\n",
       " array(1.563741683959961, dtype=float32),\n",
       " array(1.6396026611328125, dtype=float32),\n",
       " array(1.543318510055542, dtype=float32),\n",
       " array(1.7510130405426025, dtype=float32),\n",
       " array(1.7463489770889282, dtype=float32),\n",
       " array(1.6803635358810425, dtype=float32),\n",
       " array(1.6831623315811157, dtype=float32),\n",
       " array(1.5311012268066406, dtype=float32),\n",
       " array(1.6068174839019775, dtype=float32),\n",
       " array(4.508892059326172, dtype=float32),\n",
       " array(1.9846936464309692, dtype=float32),\n",
       " array(2.2015175819396973, dtype=float32),\n",
       " array(1.811899185180664, dtype=float32),\n",
       " array(1.8780262470245361, dtype=float32),\n",
       " array(1.53920578956604, dtype=float32),\n",
       " array(2.106851100921631, dtype=float32),\n",
       " array(1.82084321975708, dtype=float32),\n",
       " array(1.5336394309997559, dtype=float32),\n",
       " array(1.4917274713516235, dtype=float32),\n",
       " array(1.6899877786636353, dtype=float32),\n",
       " array(1.5502803325653076, dtype=float32),\n",
       " array(1.5347634553909302, dtype=float32),\n",
       " array(1.6168978214263916, dtype=float32),\n",
       " array(1.4131451845169067, dtype=float32),\n",
       " array(1.6430374383926392, dtype=float32),\n",
       " array(1.429185390472412, dtype=float32),\n",
       " array(1.6034653186798096, dtype=float32),\n",
       " array(1.6168556213378906, dtype=float32),\n",
       " array(1.6675286293029785, dtype=float32),\n",
       " array(1.5906683206558228, dtype=float32),\n",
       " array(1.500820279121399, dtype=float32),\n",
       " array(1.6811883449554443, dtype=float32),\n",
       " array(1.3744964599609375, dtype=float32),\n",
       " array(1.5641897916793823, dtype=float32),\n",
       " array(1.5274348258972168, dtype=float32),\n",
       " array(1.5154340267181396, dtype=float32),\n",
       " array(1.479445219039917, dtype=float32),\n",
       " array(1.5159974098205566, dtype=float32),\n",
       " array(1.5877792835235596, dtype=float32),\n",
       " array(1.475445032119751, dtype=float32),\n",
       " array(1.5022166967391968, dtype=float32),\n",
       " array(1.435387372970581, dtype=float32),\n",
       " array(1.4579013586044312, dtype=float32),\n",
       " array(1.5430775880813599, dtype=float32),\n",
       " array(1.5633599758148193, dtype=float32),\n",
       " array(1.5958201885223389, dtype=float32),\n",
       " array(1.6449309587478638, dtype=float32),\n",
       " array(1.6466858386993408, dtype=float32),\n",
       " array(1.3818371295928955, dtype=float32),\n",
       " array(1.977346658706665, dtype=float32),\n",
       " array(1.5030955076217651, dtype=float32),\n",
       " array(1.6025872230529785, dtype=float32),\n",
       " array(1.601682186126709, dtype=float32),\n",
       " array(1.5468897819519043, dtype=float32),\n",
       " array(1.3042961359024048, dtype=float32),\n",
       " array(1.4768601655960083, dtype=float32),\n",
       " array(1.2028037309646606, dtype=float32),\n",
       " array(1.286830186843872, dtype=float32),\n",
       " array(3.7985129356384277, dtype=float32),\n",
       " array(1.9893696308135986, dtype=float32),\n",
       " array(1.6493333578109741, dtype=float32),\n",
       " array(1.5780962705612183, dtype=float32),\n",
       " array(1.583353877067566, dtype=float32),\n",
       " array(1.516610860824585, dtype=float32),\n",
       " array(1.5924055576324463, dtype=float32),\n",
       " array(1.6990680694580078, dtype=float32),\n",
       " array(1.4926429986953735, dtype=float32),\n",
       " array(1.5994335412979126, dtype=float32),\n",
       " array(1.4451842308044434, dtype=float32),\n",
       " array(1.5850131511688232, dtype=float32),\n",
       " array(1.4503382444381714, dtype=float32),\n",
       " array(1.5339570045471191, dtype=float32),\n",
       " array(1.5022037029266357, dtype=float32),\n",
       " array(1.5851099491119385, dtype=float32),\n",
       " array(1.5096479654312134, dtype=float32),\n",
       " array(1.5936211347579956, dtype=float32),\n",
       " array(1.3700952529907227, dtype=float32),\n",
       " array(1.281991720199585, dtype=float32),\n",
       " array(1.4268019199371338, dtype=float32),\n",
       " array(1.4834803342819214, dtype=float32),\n",
       " array(1.5791361331939697, dtype=float32),\n",
       " array(1.3950306177139282, dtype=float32),\n",
       " array(1.3983192443847656, dtype=float32),\n",
       " array(1.3966177701950073, dtype=float32),\n",
       " array(1.680549144744873, dtype=float32),\n",
       " array(1.461002230644226, dtype=float32),\n",
       " array(1.505422592163086, dtype=float32),\n",
       " array(1.3817676305770874, dtype=float32),\n",
       " array(1.423510193824768, dtype=float32),\n",
       " array(1.4107277393341064, dtype=float32),\n",
       " ...]"
      ]
     },
     "execution_count": 19,
     "metadata": {},
     "output_type": "execute_result"
    }
   ],
   "source": [
    "layers = [\n",
    "    Embedding(size=128, n_features=tokenizer.n_features),\n",
    "    GatedRecurrent(size=512, p_drop=0.4),\n",
    "    Dense(size=14, activation='softmax', p_drop=0.2)\n",
    "]\n",
    "\n",
    "model = RNN(layers=layers, cost='cce', updater=Adadelta(lr=0.5))\n",
    "model.fit(trX_t, trY_t, n_epochs=10)"
   ]
  },
  {
   "cell_type": "code",
   "execution_count": null,
   "metadata": {
    "collapsed": true
   },
   "outputs": [],
   "source": []
  },
  {
   "cell_type": "code",
   "execution_count": 20,
   "metadata": {
    "collapsed": false
   },
   "outputs": [
    {
     "name": "stdout",
     "output_type": "stream",
     "text": [
      "0.993869047619\n"
     ]
    }
   ],
   "source": [
    "pr_trX = model.predict(trX_t)\n",
    "print(np.mean(trY_t == np.argmax(pr_trX, axis=1)))\n",
    "\n",
    "pr_teX = model.predict(teX_t)\n",
    "classes = np.argmax(pr_teX, axis=1)\n",
    "\n",
    "te_data['classes'] = le.inverse_transform(classes)\n",
    "te_data.head()\n",
    "\n",
    "gold_output = 'RNN_LSTM_1L.txt'\n",
    "te_data.to_csv(gold_output, sep='\\t', index=False, header=None)"
   ]
  },
  {
   "cell_type": "code",
   "execution_count": 30,
   "metadata": {
    "collapsed": false,
    "scrolled": false
   },
   "outputs": [
    {
     "name": "stdout",
     "output_type": "stream",
     "text": [
      "=== Results === \r\n",
      "\r\n",
      "Portugese\r\n",
      "pt-BR: 848 / 1000 = 0.848\r\n",
      "pt-PT: 943 / 1000 = 0.943\r\n",
      "\r\n",
      "Bulgarian, Macedonian\r\n",
      "bg: 1000 / 1000 = 1.0\r\n",
      "mk: 998 / 1000 = 0.998\r\n",
      "\r\n",
      "Spanish\r\n",
      "es-ES: 855 / 1000 = 0.855\r\n",
      "es-AR: 889 / 1000 = 0.889\r\n",
      "\r\n",
      "Bosnian, Croatian, Serbian\r\n",
      "bs: 807 / 1000 = 0.807\r\n",
      "hr: 913 / 1000 = 0.913\r\n",
      "sr: 921 / 1000 = 0.921\r\n",
      "\r\n",
      "Malay, Indo\r\n",
      "my: 981 / 1000 = 0.981\r\n",
      "id: 984 / 1000 = 0.984\r\n",
      "\r\n",
      "Czech, Slovak\r\n",
      "cz: 983 / 1000 = 0.983\r\n",
      "sk: 1000 / 1000 = 1.0\r\n",
      "\r\n",
      "Others\r\n",
      "xx: 992 / 1000 = 0.992\r\n",
      "\r\n",
      "Overall: 13114 / 14000 = 0.936714285714\r\n",
      "\r\n"
     ]
    }
   ],
   "source": [
    "!python ../../evaluate.py RNN_LSTM_1L.txt ../../test-gold.txt"
   ]
  },
  {
   "cell_type": "code",
   "execution_count": null,
   "metadata": {
    "collapsed": true
   },
   "outputs": [],
   "source": []
  },
  {
   "cell_type": "markdown",
   "metadata": {
    "collapsed": true
   },
   "source": [
    "##3 grams"
   ]
  },
  {
   "cell_type": "code",
   "execution_count": 22,
   "metadata": {
    "collapsed": false
   },
   "outputs": [],
   "source": [
    "tokenizer3 = CharTokenize(character=True, charn=3, min_df=1, max_features=1000000)\n",
    "trX_t3 = tokenizer3.fit_transform(trX)\n",
    "teX_t3 = tokenizer3.transform(teX)"
   ]
  },
  {
   "cell_type": "code",
   "execution_count": null,
   "metadata": {
    "collapsed": false
   },
   "outputs": [
    {
     "name": "stdout",
     "output_type": "stream",
     "text": [
      "Epoch 0 Seen 5184 samples Avg cost 2.6376 Time left 1536 seconds"
     ]
    }
   ],
   "source": [
    "layers = [\n",
    "    Embedding(size=128, n_features=tokenizer3.n_features),\n",
    "    GatedRecurrent(size=512, p_drop=0.4),\n",
    "    Dense(size=14, activation='softmax', p_drop=0.2)\n",
    "]\n",
    "\n",
    "model3 = RNN(layers=layers, cost='cce', updater=Adadelta(lr=0.5))\n",
    "model3.fit(trX_t3, trY_t, n_epochs=10)"
   ]
  },
  {
   "cell_type": "code",
   "execution_count": null,
   "metadata": {
    "collapsed": true
   },
   "outputs": [],
   "source": [
    "pr_trX3 = model3.predict(trX_t3)\n",
    "print(np.mean(trY_t == np.argmax(pr_trX3, axis=1)))\n",
    "\n",
    "pr_teX3 = model3.predict(teX_t3)\n",
    "classes = np.argmax(pr_teX3, axis=1)\n",
    "\n",
    "te_data['classes'] = le.inverse_transform(classes)\n",
    "te_data.head()\n",
    "\n",
    "gold_output = 'RNN_LSTM_C3G.txt'\n",
    "te_data.to_csv(gold_output, sep='\\t', index=False, header=None)"
   ]
  },
  {
   "cell_type": "code",
   "execution_count": 29,
   "metadata": {
    "collapsed": false
   },
   "outputs": [
    {
     "name": "stdout",
     "output_type": "stream",
     "text": [
      "=== Results === \r\n",
      "\r\n",
      "Portugese\r\n",
      "pt-BR: 903 / 1000 = 0.903\r\n",
      "pt-PT: 882 / 1000 = 0.882\r\n",
      "\r\n",
      "Bulgarian, Macedonian\r\n",
      "bg: 1000 / 1000 = 1.0\r\n",
      "mk: 1000 / 1000 = 1.0\r\n",
      "\r\n",
      "Spanish\r\n",
      "es-ES: 830 / 1000 = 0.83\r\n",
      "es-AR: 902 / 1000 = 0.902\r\n",
      "\r\n",
      "Bosnian, Croatian, Serbian\r\n",
      "bs: 837 / 1000 = 0.837\r\n",
      "hr: 850 / 1000 = 0.85\r\n",
      "sr: 930 / 1000 = 0.93\r\n",
      "\r\n",
      "Malay, Indo\r\n",
      "my: 946 / 1000 = 0.946\r\n",
      "id: 985 / 1000 = 0.985\r\n",
      "\r\n",
      "Czech, Slovak\r\n",
      "cz: 997 / 1000 = 0.997\r\n",
      "sk: 995 / 1000 = 0.995\r\n",
      "\r\n",
      "Others\r\n",
      "xx: 998 / 1000 = 0.998\r\n",
      "\r\n",
      "Overall: 13055 / 14000 = 0.9325\r\n",
      "\r\n"
     ]
    }
   ],
   "source": [
    "!python ../../evaluate.py RNN_LSTM_C3G.txt ../../test-gold.txt"
   ]
  },
  {
   "cell_type": "code",
   "execution_count": null,
   "metadata": {
    "collapsed": true
   },
   "outputs": [],
   "source": []
  },
  {
   "cell_type": "markdown",
   "metadata": {},
   "source": [
    "##2gram"
   ]
  },
  {
   "cell_type": "code",
   "execution_count": 47,
   "metadata": {
    "collapsed": true
   },
   "outputs": [],
   "source": [
    "tokenizer2 = CharTokenize(character=True, charn=2, min_df=1, max_features=1000000)\n",
    "trX_t2 = tokenizer2.fit_transform(trX)\n",
    "teX_t2 = tokenizer2.transform(teX)\n",
    "\n",
    "print tokenizer2.n_features"
   ]
  },
  {
   "cell_type": "code",
   "execution_count": null,
   "metadata": {
    "collapsed": false
   },
   "outputs": [
    {
     "name": "stdout",
     "output_type": "stream",
     "text": [
      "Epoch 0 Seen 47424 samples Avg cost 1.3115 Time left 1271 seconds"
     ]
    }
   ],
   "source": [
    "layers = [\n",
    "    Embedding(size=128, n_features=tokenizer2.n_features),\n",
    "    GatedRecurrent(size=512, p_drop=0.4),\n",
    "    Dense(size=14, activation='softmax', p_drop=0.2)\n",
    "]\n",
    "\n",
    "model2 = RNN(layers=layers, cost='cce', updater=Adadelta(lr=0.5))\n",
    "model2.fit(trX_t2, trY_t, n_epochs=10)"
   ]
  },
  {
   "cell_type": "code",
   "execution_count": null,
   "metadata": {
    "collapsed": false
   },
   "outputs": [],
   "source": [
    "pr_trX2 = model2.predict(trX_t2)\n",
    "print(np.mean(trY_t == np.argmax(pr_trX2, axis=1)))\n",
    "\n",
    "pr_teX2 = model2.predict(teX_t2)\n",
    "classes = np.argmax(pr_teX2, axis=1)\n",
    "\n",
    "te_data['classes'] = le.inverse_transform(classes)\n",
    "te_data.head()\n",
    "\n",
    "gold_output = 'RNN_LSTM_C2G.txt'\n",
    "te_data.to_csv(gold_output, sep='\\t', index=False, header=None)"
   ]
  },
  {
   "cell_type": "code",
   "execution_count": null,
   "metadata": {
    "collapsed": true
   },
   "outputs": [],
   "source": [
    "!python ../../evaluate.py RNN_LSTM_C2G.txt ../../test-gold.txt"
   ]
  },
  {
   "cell_type": "code",
   "execution_count": null,
   "metadata": {
    "collapsed": false
   },
   "outputs": [],
   "source": []
  },
  {
   "cell_type": "markdown",
   "metadata": {},
   "source": [
    "##5 grams"
   ]
  },
  {
   "cell_type": "code",
   "execution_count": null,
   "metadata": {
    "collapsed": false
   },
   "outputs": [
    {
     "name": "stdout",
     "output_type": "stream",
     "text": [
      "1000000\n"
     ]
    }
   ],
   "source": [
    "tokenizer5 = CharTokenize(character=True, charn=5, min_df=2, max_features=1000000)\n",
    "trX_t5 = tokenizer5.fit_transform(trX)\n",
    "teX_t5 = tokenizer5.transform(teX)\n",
    "\n",
    "print tokenizer5.n_features"
   ]
  },
  {
   "cell_type": "code",
   "execution_count": null,
   "metadata": {
    "collapsed": false
   },
   "outputs": [
    {
     "name": "stdout",
     "output_type": "stream",
     "text": [
      "Epoch 0 Seen 249520 samples Avg cost 0.4232 Time elapsed 1861 seconds\n",
      "Epoch 1 Seen 499040 samples Avg cost 0.2166 Time elapsed 3724 seconds\n",
      "Epoch 2 Seen 500896 samples Avg cost 0.1589 Time left 1848 seconds"
     ]
    }
   ],
   "source": [
    "layers = [\n",
    "    Embedding(size=128, n_features=tokenizer5.n_features),\n",
    "    GatedRecurrent(size=512, p_drop=0.4),\n",
    "    Dense(size=14, activation='softmax', p_drop=0.2)\n",
    "]\n",
    "\n",
    "model5 = RNN(layers=layers, cost='cce', updater=Adadelta(lr=0.5))\n",
    "model5.fit(trX_t5, trY_t, n_epochs=10)"
   ]
  },
  {
   "cell_type": "code",
   "execution_count": null,
   "metadata": {
    "collapsed": true
   },
   "outputs": [],
   "source": [
    "pr_trX5 = model5.predict(trX_t5)\n",
    "print(np.mean(trY_t == np.argmax(pr_trX5, axis=1)))\n",
    "\n",
    "pr_teX5 = model5.predict(teX_t5)\n",
    "classes = np.argmax(pr_teX5, axis=1)\n",
    "\n",
    "te_data['classes'] = le.inverse_transform(classes)\n",
    "te_data.head()\n",
    "\n",
    "gold_output = 'RNN_LSTM_C5G.txt'\n",
    "te_data.to_csv(gold_output, sep='\\t', index=False, header=None)\n"
   ]
  },
  {
   "cell_type": "code",
   "execution_count": null,
   "metadata": {
    "collapsed": true
   },
   "outputs": [],
   "source": [
    "!python ../../evaluate.py RNN_LSTM_C5G.txt ../../test-gold.txt"
   ]
  },
  {
   "cell_type": "code",
   "execution_count": null,
   "metadata": {
    "collapsed": true
   },
   "outputs": [],
   "source": []
  },
  {
   "cell_type": "code",
   "execution_count": null,
   "metadata": {
    "collapsed": true
   },
   "outputs": [],
   "source": []
  },
  {
   "cell_type": "code",
   "execution_count": null,
   "metadata": {
    "collapsed": true
   },
   "outputs": [],
   "source": []
  },
  {
   "cell_type": "code",
   "execution_count": 16,
   "metadata": {
    "collapsed": true
   },
   "outputs": [],
   "source": [
    "def getY(fl):\n",
    "    data = pd.read_csv(fl, encoding='utf-8', sep=r'\\t+', header=None, names=['text', 'label'])\n",
    "    trY = data['label'].values\n",
    "    return trY"
   ]
  },
  {
   "cell_type": "code",
   "execution_count": 12,
   "metadata": {
    "collapsed": false
   },
   "outputs": [],
   "source": [
    "def most_common(lst):\n",
    "    return max(set(lst), key=lst.count)"
   ]
  },
  {
   "cell_type": "code",
   "execution_count": 17,
   "metadata": {
    "collapsed": false,
    "scrolled": true
   },
   "outputs": [],
   "source": [
    "# classes4 = np.argmax(pr_teX, axis=1)\n",
    "\n",
    "# classes3 = np.argmax(pr_teX3, axis=1)\n",
    "\n",
    "# classes2 = np.argmax(pr_teX2, axis=1)"
   ]
  },
  {
   "cell_type": "code",
   "execution_count": 22,
   "metadata": {
    "collapsed": false
   },
   "outputs": [
    {
     "name": "stderr",
     "output_type": "stream",
     "text": [
      "/home/ubuntu/anaconda2/lib/python2.7/site-packages/ipykernel/__main__.py:2: ParserWarning: Falling back to the 'python' engine because the 'c' engine does not support regex separators; you can avoid this warning by specifying engine='python'.\n",
      "  from ipykernel import kernelapp as app\n"
     ]
    }
   ],
   "source": [
    "c2g = getY('RNN_LSTM_C2G.txt')\n",
    "c3g = getY('RNN_LSTM_C3G.txt')\n",
    "c4g = getY('RNN_LSTM_1L.txt')\n",
    "c5g = getY('RNN_LSTM_C5G.txt')"
   ]
  },
  {
   "cell_type": "code",
   "execution_count": 61,
   "metadata": {
    "collapsed": true
   },
   "outputs": [],
   "source": [
    "preds = zip(c5g, c5g, c3g, c4g, c2g)"
   ]
  },
  {
   "cell_type": "code",
   "execution_count": 62,
   "metadata": {
    "collapsed": false
   },
   "outputs": [],
   "source": [
    "preds = map(lambda x: most_common(x), preds)"
   ]
  },
  {
   "cell_type": "code",
   "execution_count": 63,
   "metadata": {
    "collapsed": false
   },
   "outputs": [],
   "source": [
    "te_data['classes'] = preds\n",
    "\n",
    "gold_output = 'RNN_LSTM_ensemble.txt'\n",
    "te_data.to_csv(gold_output, sep='\\t', index=False, header=None)"
   ]
  },
  {
   "cell_type": "code",
   "execution_count": 64,
   "metadata": {
    "collapsed": false
   },
   "outputs": [
    {
     "name": "stdout",
     "output_type": "stream",
     "text": [
      "=== Results === \r\n",
      "\r\n",
      "Portugese\r\n",
      "pt-BR: 945 / 1000 = 0.945\r\n",
      "pt-PT: 878 / 1000 = 0.878\r\n",
      "\r\n",
      "Bulgarian, Macedonian\r\n",
      "bg: 1000 / 1000 = 1.0\r\n",
      "mk: 999 / 1000 = 0.999\r\n",
      "\r\n",
      "Spanish\r\n",
      "es-ES: 849 / 1000 = 0.849\r\n",
      "es-AR: 926 / 1000 = 0.926\r\n",
      "\r\n",
      "Bosnian, Croatian, Serbian\r\n",
      "bs: 823 / 1000 = 0.823\r\n",
      "hr: 893 / 1000 = 0.893\r\n",
      "sr: 967 / 1000 = 0.967\r\n",
      "\r\n",
      "Malay, Indo\r\n",
      "my: 987 / 1000 = 0.987\r\n",
      "id: 986 / 1000 = 0.986\r\n",
      "\r\n",
      "Czech, Slovak\r\n",
      "cz: 997 / 1000 = 0.997\r\n",
      "sk: 1000 / 1000 = 1.0\r\n",
      "\r\n",
      "Others\r\n",
      "xx: 1000 / 1000 = 1.0\r\n",
      "\r\n",
      "Overall: 13250 / 14000 = 0.946428571429\r\n",
      "\r\n"
     ]
    }
   ],
   "source": [
    "!python ../../evaluate.py RNN_LSTM_ensemble.txt ../../test-gold.txt"
   ]
  },
  {
   "cell_type": "code",
   "execution_count": null,
   "metadata": {
    "collapsed": true
   },
   "outputs": [],
   "source": []
  },
  {
   "cell_type": "code",
   "execution_count": null,
   "metadata": {
    "collapsed": true
   },
   "outputs": [],
   "source": []
  },
  {
   "cell_type": "code",
   "execution_count": null,
   "metadata": {
    "collapsed": true
   },
   "outputs": [],
   "source": []
  },
  {
   "cell_type": "code",
   "execution_count": null,
   "metadata": {
    "collapsed": true
   },
   "outputs": [],
   "source": []
  },
  {
   "cell_type": "code",
   "execution_count": null,
   "metadata": {
    "collapsed": true
   },
   "outputs": [],
   "source": []
  },
  {
   "cell_type": "code",
   "execution_count": null,
   "metadata": {
    "collapsed": true
   },
   "outputs": [],
   "source": []
  },
  {
   "cell_type": "code",
   "execution_count": null,
   "metadata": {
    "collapsed": true
   },
   "outputs": [],
   "source": []
  }
 ],
 "metadata": {
  "kernelspec": {
   "display_name": "Python 2",
   "language": "python",
   "name": "python2"
  },
  "language_info": {
   "codemirror_mode": {
    "name": "ipython",
    "version": 2
   },
   "file_extension": ".py",
   "mimetype": "text/x-python",
   "name": "python",
   "nbconvert_exporter": "python",
   "pygments_lexer": "ipython2",
   "version": "2.7.6"
  }
 },
 "nbformat": 4,
 "nbformat_minor": 0
}
