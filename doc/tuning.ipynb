{
 "cells": [
  {
   "cell_type": "code",
   "execution_count": 1,
   "metadata": {
    "collapsed": true
   },
   "outputs": [],
   "source": [
    "%matplotlib inline"
   ]
  },
  {
   "cell_type": "code",
   "execution_count": 2,
   "metadata": {
    "collapsed": false
   },
   "outputs": [
    {
     "name": "stderr",
     "output_type": "stream",
     "text": [
      "Using gpu device 0: GRID K520\n"
     ]
    }
   ],
   "source": [
    "from sklearn.cross_validation import train_test_split\n",
    "import pandas as pd\n",
    "\n",
    "from passage.models import RNN\n",
    "from passage.updates import Adadelta\n",
    "from passage.updates import NAG, Regularizer\n",
    "from passage.layers import Embedding, GatedRecurrent, Dense\n",
    "from passage.preprocessing import *\n",
    "\n",
    "from sklearn import preprocessing, metrics\n",
    "from matplotlib import pyplot as plt"
   ]
  },
  {
   "cell_type": "code",
   "execution_count": 3,
   "metadata": {
    "collapsed": true
   },
   "outputs": [],
   "source": [
    "fn = '../../devel.txt'"
   ]
  },
  {
   "cell_type": "code",
   "execution_count": 4,
   "metadata": {
    "collapsed": true
   },
   "outputs": [],
   "source": [
    "tr_data = pd.read_csv(fn, encoding='utf-8', sep=r'\\t+', header=None, names=['text', 'label'], engine='python')"
   ]
  },
  {
   "cell_type": "code",
   "execution_count": 5,
   "metadata": {
    "collapsed": true
   },
   "outputs": [],
   "source": [
    "grps = tr_data.groupby(['label'])"
   ]
  },
  {
   "cell_type": "code",
   "execution_count": 6,
   "metadata": {
    "collapsed": false
   },
   "outputs": [
    {
     "name": "stdout",
     "output_type": "stream",
     "text": [
      "bg (2000, 2)\n",
      "bs (2000, 2)\n",
      "cz (2000, 2)\n",
      "es-AR (2000, 2)\n",
      "es-ES (2000, 2)\n",
      "hr (2000, 2)\n",
      "id (2000, 2)\n",
      "mk (2000, 2)\n",
      "my (2000, 2)\n",
      "pt-BR (2000, 2)\n",
      "pt-PT (2000, 2)\n",
      "sk (2000, 2)\n",
      "sr (2000, 2)\n",
      "xx (2000, 2)\n"
     ]
    }
   ],
   "source": [
    "train_df = pd.DataFrame(columns=['text','label'])\n",
    "test_df = pd.DataFrame(columns=['text','label'])\n",
    "\n",
    "for name, grp in grps:\n",
    "    print name, grp.shape\n",
    "    train, test = train_test_split(grp, test_size=0.25, random_state=42)\n",
    "\n",
    "    train_df = train_df.append(train, ignore_index=True)\n",
    "    test_df = test_df.append(test, ignore_index=True)"
   ]
  },
  {
   "cell_type": "code",
   "execution_count": 7,
   "metadata": {
    "collapsed": false
   },
   "outputs": [],
   "source": [
    "trX = train_df['text'].values\n",
    "trY = train_df['label'].values"
   ]
  },
  {
   "cell_type": "code",
   "execution_count": 8,
   "metadata": {
    "collapsed": true
   },
   "outputs": [],
   "source": [
    "teX = test_df['text'].values\n",
    "teY = test_df['label'].values"
   ]
  },
  {
   "cell_type": "code",
   "execution_count": 9,
   "metadata": {
    "collapsed": false
   },
   "outputs": [
    {
     "data": {
      "text/plain": [
       "array(['bg', 'bs', 'cz', 'es-AR', 'es-ES', 'hr', 'id', 'mk', 'my', 'pt-BR',\n",
       "       'pt-PT', 'sk', 'sr', 'xx'], dtype=object)"
      ]
     },
     "execution_count": 9,
     "metadata": {},
     "output_type": "execute_result"
    }
   ],
   "source": [
    "le = preprocessing.LabelEncoder()\n",
    "trY_t = le.fit_transform(trY)\n",
    "teY_t = le.transform(teY)\n",
    "le.classes_"
   ]
  },
  {
   "cell_type": "code",
   "execution_count": null,
   "metadata": {
    "collapsed": true
   },
   "outputs": [],
   "source": []
  },
  {
   "cell_type": "code",
   "execution_count": 10,
   "metadata": {
    "collapsed": false
   },
   "outputs": [
    {
     "name": "stdout",
     "output_type": "stream",
     "text": [
      "Training data tokenized.\n"
     ]
    },
    {
     "name": "stderr",
     "output_type": "stream",
     "text": [
      "/home/ubuntu/Downloads/passage/passage/preprocessing.py:41: UnicodeWarning: Unicode equal comparison failed to convert both arguments to Unicode - interpreting them as being unequal\n",
      "  if t in punctuation:\n"
     ]
    }
   ],
   "source": [
    "tokenizer = Tokenizer(min_df=1, max_features=1000000)\n",
    "trX_t = tokenizer.fit_transform(trX)\n",
    "print(\"Training data tokenized.\")"
   ]
  },
  {
   "cell_type": "code",
   "execution_count": 11,
   "metadata": {
    "collapsed": false
   },
   "outputs": [
    {
     "data": {
      "text/plain": [
       "149110"
      ]
     },
     "execution_count": 11,
     "metadata": {},
     "output_type": "execute_result"
    }
   ],
   "source": [
    "tokenizer.n_features"
   ]
  },
  {
   "cell_type": "code",
   "execution_count": 12,
   "metadata": {
    "collapsed": true
   },
   "outputs": [],
   "source": [
    "teX_t = tokenizer.transform(teX)"
   ]
  },
  {
   "cell_type": "code",
   "execution_count": null,
   "metadata": {
    "collapsed": true
   },
   "outputs": [],
   "source": []
  },
  {
   "cell_type": "code",
   "execution_count": null,
   "metadata": {
    "collapsed": false,
    "scrolled": false
   },
   "outputs": [],
   "source": [
    "p_drop_scores = {}\n",
    "\n",
    "for p_drop in [0.1, 0.15, 0.2, 0.25, 0.3, 0.35, 0.4, 0.45]:\n",
    "    layers = [\n",
    "        Embedding(size=128, n_features=tokenizer.n_features),\n",
    "        GatedRecurrent(size=768, p_drop=p_drop),\n",
    "        Dense(size=14, activation='softmax', p_drop=0.2)\n",
    "    ]\n",
    "\n",
    "    model = RNN(layers=layers, cost='cce', updater=Adadelta(lr=0.5))\n",
    "    model.fit(trX_t, trY_t, n_epochs=10)\n",
    "\n",
    "    pr_teX = model.predict(teX_t)\n",
    "    classes = np.argmax(pr_teX, axis=1)\n",
    "\n",
    "    acc = metrics.accuracy_score(teY_t, classes)\n",
    "    p_drop_scores[p_drop] = acc"
   ]
  },
  {
   "cell_type": "code",
   "execution_count": 24,
   "metadata": {
    "collapsed": false
   },
   "outputs": [
    {
     "data": {
      "text/plain": [
       "<matplotlib.collections.PathCollection at 0x7fdcef331c10>"
      ]
     },
     "execution_count": 24,
     "metadata": {},
     "output_type": "execute_result"
    },
    {
     "data": {
      "image/png": "[encoded data removed]",
      "text/plain": [
       "<matplotlib.figure.Figure at 0x7fdcee2de550>"
      ]
     },
     "metadata": {},
     "output_type": "display_data"
    }
   ],
   "source": [
    "scores = zip(*p_drop_scores.iteritems())\n",
    "plt.scatter(scores[0], scores[1])"
   ]
  },
  {
   "cell_type": "code",
   "execution_count": null,
   "metadata": {
    "collapsed": true
   },
   "outputs": [],
   "source": []
  },
  {
   "cell_type": "code",
   "execution_count": null,
   "metadata": {
    "collapsed": false
   },
   "outputs": [
    {
     "name": "stdout",
     "output_type": "stream",
     "text": [
      "Epoch 0 Seen 20792 samples Avg cost 1.7675 Time elapsed 15 seconds\n",
      "Epoch 1 Seen 41584 samples Avg cost 0.8298 Time elapsed 31 seconds\n",
      "Epoch 2 Seen 62376 samples Avg cost 0.6080 Time elapsed 46 seconds\n",
      "Epoch 3 Seen 83168 samples Avg cost 0.5133 Time elapsed 62 seconds\n",
      "Epoch 4 Seen 103960 samples Avg cost 0.4550 Time elapsed 77 seconds\n",
      "Epoch 5 Seen 124752 samples Avg cost 0.4042 Time elapsed 93 seconds\n",
      "Epoch 6 Seen 145544 samples Avg cost 0.3580 Time elapsed 108 seconds\n",
      "Epoch 7 Seen 166336 samples Avg cost 0.3131 Time elapsed 124 seconds\n",
      "Epoch 8 Seen 187128 samples Avg cost 0.2523 Time elapsed 139 seconds\n",
      "Epoch 9 Seen 207920 samples Avg cost 0.1902 Time elapsed 155 seconds\n",
      "Epoch 0 Seen 20792 samples Avg cost 1.7555 Time elapsed 17 seconds\n",
      "Epoch 1 Seen 41584 samples Avg cost 0.8124 Time elapsed 34 seconds\n",
      "Epoch 2 Seen 62376 samples Avg cost 0.6210 Time elapsed 51 seconds\n",
      "Epoch 3 Seen 83168 samples Avg cost 0.5219 Time elapsed 69 seconds\n",
      "Epoch 4 Seen 103960 samples Avg cost 0.4512 Time elapsed 86 seconds\n",
      "Epoch 5 Seen 124752 samples Avg cost 0.3901 Time elapsed 103 seconds\n",
      "Epoch 6 Seen 145544 samples Avg cost 0.3426 Time elapsed 121 seconds\n",
      "Epoch 7 Seen 166336 samples Avg cost 0.2911 Time elapsed 138 seconds\n",
      "Epoch 8 Seen 187128 samples Avg cost 0.2364 Time elapsed 155 seconds\n",
      "Epoch 9 Seen 207920 samples Avg cost 0.1940 Time elapsed 173 seconds\n",
      "Epoch 0 Seen 20792 samples Avg cost 2.0834 Time elapsed 24 seconds\n",
      "Epoch 1 Seen 41584 samples Avg cost 0.8804 Time elapsed 49 seconds\n",
      "Epoch 2 Seen 62376 samples Avg cost 0.6292 Time elapsed 74 seconds\n",
      "Epoch 3 Seen 83168 samples Avg cost 0.5264 Time elapsed 99 seconds\n",
      "Epoch 4 Seen 103960 samples Avg cost 0.4718 Time elapsed 124 seconds\n",
      "Epoch 5 Seen 124752 samples Avg cost 0.4347 Time elapsed 149 seconds\n",
      "Epoch 6 Seen 145544 samples Avg cost 0.3927 Time elapsed 174 seconds\n",
      "Epoch 7 Seen 166336 samples Avg cost 0.3484 Time elapsed 199 seconds\n",
      "Epoch 8 Seen 187128 samples Avg cost 0.3048 Time elapsed 224 seconds\n",
      "Epoch 9 Seen 207920 samples Avg cost 0.2539 Time elapsed 249 seconds\n",
      "Epoch 0 Seen 20792 samples Avg cost 2.3007 Time elapsed 31 seconds\n",
      "Epoch 1 Seen 41584 samples Avg cost 1.0825 Time elapsed 62 seconds\n",
      "Epoch 2 Seen 62376 samples Avg cost 0.7058 Time elapsed 93 seconds\n",
      "Epoch 3 Seen 83168 samples Avg cost 0.5427 Time elapsed 124 seconds\n",
      "Epoch 4 Seen 103960 samples Avg cost 0.4797 Time elapsed 156 seconds\n",
      "Epoch 5 Seen 124752 samples Avg cost 0.4509 Time elapsed 187 seconds\n",
      "Epoch 6 Seen 145544 samples Avg cost 0.4062 Time elapsed 218 seconds\n",
      "Epoch 7 Seen 166336 samples Avg cost 0.3620 Time elapsed 249 seconds\n",
      "Epoch 8 Seen 187128 samples Avg cost 0.3234 Time elapsed 281 seconds\n",
      "Epoch 9 Seen 207920 samples Avg cost 0.2612 Time elapsed 312 seconds\n",
      "Epoch 0 Seen 20792 samples Avg cost 2.4871 Time elapsed 46 seconds\n",
      "Epoch 1 Seen 41584 samples Avg cost 1.2031 Time elapsed 92 seconds\n",
      "Epoch 2 Seen 62376 samples Avg cost 0.7838 Time elapsed 138 seconds\n",
      "Epoch 3 Seen 83168 samples Avg cost 0.5882 Time elapsed 184 seconds\n",
      "Epoch 4 Seen 103960 samples Avg cost 0.5075 Time elapsed 229 seconds\n",
      "Epoch 5 Seen 124752 samples Avg cost 0.4593 Time elapsed 275 seconds\n",
      "Epoch 6 Seen 145544 samples Avg cost 0.4365 Time elapsed 321 seconds\n",
      "Epoch 7 Seen 166336 samples Avg cost 0.3815 Time elapsed 367 seconds\n",
      "Epoch 8 Seen 187128 samples Avg cost 0.3266 Time elapsed 413 seconds\n",
      "Epoch 9 Seen 207920 samples Avg cost 0.2753 Time elapsed 459 seconds\n",
      "Epoch 0 Seen 20792 samples Avg cost 2.5491 Time elapsed 56 seconds\n",
      "Epoch 1 Seen 41584 samples Avg cost 1.4388 Time elapsed 113 seconds\n",
      "Epoch 2 Seen 62376 samples Avg cost 0.8355 Time elapsed 170 seconds\n",
      "Epoch 3 Seen 83168 samples Avg cost 0.6508 Time elapsed 227 seconds\n",
      "Epoch 4 Seen 103960 samples Avg cost 0.5331 Time elapsed 283 seconds\n",
      "Epoch 5 Seen 124752 samples Avg cost 0.4732 Time elapsed 340 seconds\n",
      "Epoch 6 Seen 145544 samples Avg cost 0.4159 Time elapsed 397 seconds\n",
      "Epoch 7 Seen 166336 samples Avg cost 0.3641 Time elapsed 454 seconds\n",
      "Epoch 8 Seen 187128 samples Avg cost 0.3185 Time elapsed 511 seconds\n",
      "Epoch 9 Seen 207920 samples Avg cost 0.2601 Time elapsed 567 seconds\n",
      "Epoch 0 Seen 20792 samples Avg cost 2.5496 Time elapsed 83 seconds\n",
      "Epoch 1 Seen 41584 samples Avg cost 1.3620 Time elapsed 166 seconds\n",
      "Epoch 2 Seen 62376 samples Avg cost 0.8101 Time elapsed 250 seconds\n",
      "Epoch 3 Seen 83168 samples Avg cost 0.6022 Time elapsed 333 seconds\n",
      "Epoch 4 Seen 103960 samples Avg cost 0.5114 Time elapsed 416 seconds\n",
      "Epoch 5 Seen 124752 samples Avg cost 0.4487 Time elapsed 500 seconds\n",
      "Epoch 6 Seen 145544 samples Avg cost 0.4025 Time elapsed 583 seconds\n",
      "Epoch 7 Seen 166336 samples Avg cost 0.3534 Time elapsed 666 seconds\n",
      "Epoch 8 Seen 187128 samples Avg cost 0.3076 Time elapsed 750 seconds\n",
      "Epoch 9 Seen 198712 samples Avg cost 0.2568 Time left 36 seconds"
     ]
    }
   ],
   "source": [
    "size_scores = {}\n",
    "\n",
    "for size in [64, 128, 256, 512, 768, 1024, 1280]:\n",
    "    layers = [\n",
    "        Embedding(size=128, n_features=tokenizer.n_features),\n",
    "        GatedRecurrent(size=size, p_drop=0.35),\n",
    "        Dense(size=14, activation='softmax', p_drop=0.2)\n",
    "    ]\n",
    "\n",
    "    model = RNN(layers=layers, cost='cce', updater=Adadelta(lr=0.5))\n",
    "    model.fit(trX_t, trY_t, n_epochs=10)\n",
    "\n",
    "    pr_teX = model.predict(teX_t)\n",
    "    classes = np.argmax(pr_teX, axis=1)\n",
    "\n",
    "    acc = metrics.accuracy_score(teY_t, classes)\n",
    "    size_scores[size] = acc"
   ]
  },
  {
   "cell_type": "code",
   "execution_count": 25,
   "metadata": {
    "collapsed": false,
    "scrolled": true
   },
   "outputs": [
    {
     "data": {
      "text/plain": [
       "<matplotlib.collections.PathCollection at 0x7fdd0a78a490>"
      ]
     },
     "execution_count": 25,
     "metadata": {},
     "output_type": "execute_result"
    },
    {
     "data": {
      "image/png": "[encoded data removed]",
      "text/plain": [
       "<matplotlib.figure.Figure at 0x7fdd10156550>"
      ]
     },
     "metadata": {},
     "output_type": "display_data"
    }
   ],
   "source": [
    "scores = zip(*size_scores.iteritems())\n",
    "plt.scatter(scores[0], scores[1])"
   ]
  },
  {
   "cell_type": "code",
   "execution_count": null,
   "metadata": {
    "collapsed": true
   },
   "outputs": [],
   "source": []
  },
  {
   "cell_type": "code",
   "execution_count": null,
   "metadata": {
    "collapsed": true
   },
   "outputs": [],
   "source": []
  },
  {
   "cell_type": "code",
   "execution_count": null,
   "metadata": {
    "collapsed": true
   },
   "outputs": [],
   "source": []
  },
  {
   "cell_type": "code",
   "execution_count": null,
   "metadata": {
    "collapsed": true
   },
   "outputs": [],
   "source": [
    "epochs_scores = {}\n",
    "\n",
    "for epoch in [5, 7, 10, 13, 15, 17, 20, 22, 25]:\n",
    "    layers = [\n",
    "        Embedding(size=128, n_features=tokenizer.n_features),\n",
    "        GatedRecurrent(size=768, p_drop=0.35),\n",
    "        Dense(size=14, activation='softmax', p_drop=0.2)\n",
    "    ]\n",
    "\n",
    "    model = RNN(layers=layers, cost='cce', updater=Adadelta(lr=0.5))\n",
    "    model.fit(trX_t, trY_t, n_epochs=epoch)\n",
    "\n",
    "    pr_teX = model.predict(teX_t)\n",
    "    classes = np.argmax(pr_teX, axis=1)\n",
    "\n",
    "    acc = metrics.accuracy_score(teY_t, classes)\n",
    "    epochs_scores[epoch] = acc"
   ]
  },
  {
   "cell_type": "code",
   "execution_count": 26,
   "metadata": {
    "collapsed": false
   },
   "outputs": [
    {
     "data": {
      "text/plain": [
       "<matplotlib.collections.PathCollection at 0x7fdcf1ba9b10>"
      ]
     },
     "execution_count": 26,
     "metadata": {},
     "output_type": "execute_result"
    },
    {
     "data": {
      "image/png": "[encoded data removed]",
      "text/plain": [
       "<matplotlib.figure.Figure at 0x7fdced7e4310>"
      ]
     },
     "metadata": {},
     "output_type": "display_data"
    }
   ],
   "source": [
    "scores = zip(*epochs_scores.iteritems())\n",
    "plt.scatter(scores[0], scores[1])"
   ]
  },
  {
   "cell_type": "code",
   "execution_count": null,
   "metadata": {
    "collapsed": true
   },
   "outputs": [],
   "source": []
  },
  {
   "cell_type": "code",
   "execution_count": 20,
   "metadata": {
    "collapsed": true
   },
   "outputs": [],
   "source": [
    "sizes = [768, 1024, 1280]\n",
    "p_drop = [0.2, 0.25, 0.35, 0.4, 0.45]"
   ]
  },
  {
   "cell_type": "code",
   "execution_count": 21,
   "metadata": {
    "collapsed": true
   },
   "outputs": [],
   "source": [
    "from itertools import product"
   ]
  },
  {
   "cell_type": "code",
   "execution_count": 23,
   "metadata": {
    "collapsed": false
   },
   "outputs": [
    {
     "data": {
      "text/plain": [
       "15"
      ]
     },
     "execution_count": 23,
     "metadata": {},
     "output_type": "execute_result"
    }
   ],
   "source": [
    "len(list(product(sizes, p_drop)))"
   ]
  },
  {
   "cell_type": "code",
   "execution_count": null,
   "metadata": {
    "collapsed": false,
    "scrolled": true
   },
   "outputs": [
    {
     "name": "stdout",
     "output_type": "stream",
     "text": [
      "Epoch 0 Seen 20792 samples Avg cost 2.4244 Time elapsed 44 seconds\n",
      "Epoch 1 Seen 41584 samples Avg cost 1.1739 Time elapsed 88 seconds\n",
      "Epoch 2 Seen 62376 samples Avg cost 0.7354 Time elapsed 132 seconds\n",
      "Epoch 3 Seen 83168 samples Avg cost 0.5731 Time elapsed 177 seconds\n",
      "Epoch 4 Seen 103960 samples Avg cost 0.4899 Time elapsed 221 seconds\n",
      "Epoch 5 Seen 124752 samples Avg cost 0.4445 Time elapsed 266 seconds\n",
      "Epoch 6 Seen 145544 samples Avg cost 0.3952 Time elapsed 310 seconds\n",
      "Epoch 7 Seen 166336 samples Avg cost 0.3406 Time elapsed 354 seconds\n",
      "Epoch 8 Seen 187128 samples Avg cost 0.2993 Time elapsed 398 seconds\n",
      "Epoch 9 Seen 207920 samples Avg cost 0.2399 Time elapsed 442 seconds\n",
      "Epoch 10 Seen 228712 samples Avg cost 0.1850 Time elapsed 487 seconds\n",
      "Epoch 11 Seen 249504 samples Avg cost 0.1422 Time elapsed 531 seconds\n",
      "Epoch 12 Seen 270296 samples Avg cost 0.1055 Time elapsed 575 seconds\n",
      "Epoch 13 Seen 291088 samples Avg cost 0.0902 Time elapsed 619 seconds\n",
      "Epoch 14 Seen 311880 samples Avg cost 0.0630 Time elapsed 663 seconds\n",
      "Epoch 15 Seen 332672 samples Avg cost 0.0465 Time elapsed 707 seconds\n",
      "Epoch 16 Seen 353464 samples Avg cost 0.0322 Time elapsed 751 seconds\n",
      "Epoch 17 Seen 374256 samples Avg cost 0.0204 Time elapsed 795 seconds\n",
      "Epoch 18 Seen 395048 samples Avg cost 0.0124 Time elapsed 839 seconds\n",
      "Epoch 19 Seen 415840 samples Avg cost 0.0063 Time elapsed 883 seconds\n",
      "Epoch 20 Seen 436632 samples Avg cost 0.0098 Time elapsed 928 seconds\n",
      "Epoch 21 Seen 457424 samples Avg cost 0.0051 Time elapsed 972 seconds\n",
      "Epoch 22 Seen 478216 samples Avg cost 0.0019 Time elapsed 1016 seconds\n",
      "Epoch 23 Seen 499008 samples Avg cost 0.0011 Time elapsed 1060 seconds\n",
      "Epoch 24 Seen 519800 samples Avg cost 0.0034 Time elapsed 1104 seconds\n",
      "Epoch 0 Seen 20792 samples Avg cost 2.3963 Time elapsed 44 seconds\n",
      "Epoch 1 Seen 41584 samples Avg cost 1.1792 Time elapsed 88 seconds\n",
      "Epoch 2 Seen 62376 samples Avg cost 0.7649 Time elapsed 132 seconds\n",
      "Epoch 3 Seen 83168 samples Avg cost 0.5764 Time elapsed 177 seconds\n",
      "Epoch 4 Seen 103960 samples Avg cost 0.4908 Time elapsed 221 seconds\n",
      "Epoch 5 Seen 124752 samples Avg cost 0.4411 Time elapsed 265 seconds\n",
      "Epoch 6 Seen 145544 samples Avg cost 0.3902 Time elapsed 310 seconds\n",
      "Epoch 7 Seen 166336 samples Avg cost 0.3558 Time elapsed 354 seconds\n",
      "Epoch 8 Seen 187128 samples Avg cost 0.2874 Time elapsed 398 seconds\n",
      "Epoch 9 Seen 207920 samples Avg cost 0.2393 Time elapsed 442 seconds\n",
      "Epoch 10 Seen 228712 samples Avg cost 0.1846 Time elapsed 487 seconds\n",
      "Epoch 11 Seen 249504 samples Avg cost 0.1384 Time elapsed 531 seconds\n",
      "Epoch 12 Seen 270296 samples Avg cost 0.1004 Time elapsed 575 seconds\n",
      "Epoch 13 Seen 291088 samples Avg cost 0.0654 Time elapsed 619 seconds\n",
      "Epoch 14 Seen 311880 samples Avg cost 0.0449 Time elapsed 663 seconds\n",
      "Epoch 15 Seen 332672 samples Avg cost 0.0304 Time elapsed 708 seconds\n",
      "Epoch 16 Seen 353464 samples Avg cost 0.0183 Time elapsed 752 seconds\n",
      "Epoch 17 Seen 374256 samples Avg cost 0.0155 Time elapsed 796 seconds\n",
      "Epoch 18 Seen 395048 samples Avg cost 0.0116 Time elapsed 840 seconds\n",
      "Epoch 19 Seen 415840 samples Avg cost 0.0051 Time elapsed 885 seconds\n",
      "Epoch 20 Seen 436632 samples Avg cost 0.0053 Time elapsed 929 seconds\n",
      "Epoch 21 Seen 457424 samples Avg cost 0.0024 Time elapsed 973 seconds\n",
      "Epoch 22 Seen 478216 samples Avg cost 0.0029 Time elapsed 1018 seconds\n",
      "Epoch 23 Seen 499008 samples Avg cost 0.0011 Time elapsed 1062 seconds\n",
      "Epoch 24 Seen 519800 samples Avg cost 0.0029 Time elapsed 1106 seconds\n",
      "Epoch 0 Seen 20792 samples Avg cost 2.4380 Time elapsed 44 seconds\n",
      "Epoch 1 Seen 41584 samples Avg cost 1.1551 Time elapsed 88 seconds\n",
      "Epoch 2 Seen 62376 samples Avg cost 0.7516 Time elapsed 133 seconds\n",
      "Epoch 3 Seen 83168 samples Avg cost 0.5705 Time elapsed 177 seconds\n",
      "Epoch 4 Seen 103960 samples Avg cost 0.4947 Time elapsed 221 seconds\n",
      "Epoch 5 Seen 124752 samples Avg cost 0.4434 Time elapsed 266 seconds\n",
      "Epoch 6 Seen 145544 samples Avg cost 0.3990 Time elapsed 310 seconds\n",
      "Epoch 7 Seen 166336 samples Avg cost 0.3491 Time elapsed 354 seconds\n",
      "Epoch 8 Seen 187128 samples Avg cost 0.3099 Time elapsed 399 seconds\n",
      "Epoch 9 Seen 207920 samples Avg cost 0.2510 Time elapsed 443 seconds\n",
      "Epoch 10 Seen 228712 samples Avg cost 0.1980 Time elapsed 488 seconds\n",
      "Epoch 11 Seen 249504 samples Avg cost 0.1533 Time elapsed 532 seconds\n",
      "Epoch 12 Seen 270296 samples Avg cost 0.1073 Time elapsed 576 seconds\n",
      "Epoch 13 Seen 291088 samples Avg cost 0.0747 Time elapsed 621 seconds\n",
      "Epoch 14 Seen 311880 samples Avg cost 0.0530 Time elapsed 665 seconds\n",
      "Epoch 15 Seen 332672 samples Avg cost 0.0406 Time elapsed 710 seconds\n",
      "Epoch 16 Seen 353464 samples Avg cost 0.0284 Time elapsed 754 seconds\n",
      "Epoch 17 Seen 374256 samples Avg cost 0.0323 Time elapsed 798 seconds\n",
      "Epoch 18 Seen 395048 samples Avg cost 0.0146 Time elapsed 843 seconds\n",
      "Epoch 19 Seen 415840 samples Avg cost 0.0111 Time elapsed 887 seconds\n",
      "Epoch 20 Seen 436632 samples Avg cost 0.0069 Time elapsed 932 seconds\n",
      "Epoch 21 Seen 457424 samples Avg cost 0.0118 Time elapsed 976 seconds\n",
      "Epoch 22 Seen 478216 samples Avg cost 0.0044 Time elapsed 1021 seconds\n",
      "Epoch 23 Seen 499008 samples Avg cost 0.0069 Time elapsed 1065 seconds\n",
      "Epoch 24 Seen 519800 samples Avg cost 0.0066 Time elapsed 1109 seconds\n",
      "Epoch 0 Seen 20792 samples Avg cost 2.5366 Time elapsed 44 seconds\n",
      "Epoch 1 Seen 41584 samples Avg cost 1.2017 Time elapsed 88 seconds\n",
      "Epoch 2 Seen 62376 samples Avg cost 0.7415 Time elapsed 132 seconds\n",
      "Epoch 3 Seen 83168 samples Avg cost 0.6076 Time elapsed 177 seconds\n",
      "Epoch 4 Seen 103960 samples Avg cost 0.5217 Time elapsed 221 seconds\n",
      "Epoch 5 Seen 124752 samples Avg cost 0.4701 Time elapsed 265 seconds\n",
      "Epoch 6 Seen 145544 samples Avg cost 0.4257 Time elapsed 310 seconds\n",
      "Epoch 7 Seen 166336 samples Avg cost 0.3843 Time elapsed 354 seconds\n",
      "Epoch 8 Seen 187128 samples Avg cost 0.3371 Time elapsed 399 seconds\n",
      "Epoch 9 Seen 207920 samples Avg cost 0.2790 Time elapsed 443 seconds\n",
      "Epoch 10 Seen 228712 samples Avg cost 0.2345 Time elapsed 487 seconds\n",
      "Epoch 11 Seen 249504 samples Avg cost 0.1819 Time elapsed 532 seconds\n",
      "Epoch 12 Seen 270296 samples Avg cost 0.1425 Time elapsed 576 seconds\n",
      "Epoch 13 Seen 291088 samples Avg cost 0.1145 Time elapsed 620 seconds\n",
      "Epoch 14 Seen 311880 samples Avg cost 0.0805 Time elapsed 665 seconds\n",
      "Epoch 15 Seen 332672 samples Avg cost 0.0603 Time elapsed 709 seconds\n",
      "Epoch 16 Seen 353464 samples Avg cost 0.0362 Time elapsed 753 seconds\n",
      "Epoch 17 Seen 374256 samples Avg cost 0.0307 Time elapsed 798 seconds\n",
      "Epoch 18 Seen 395048 samples Avg cost 0.0235 Time elapsed 842 seconds\n",
      "Epoch 19 Seen 415840 samples Avg cost 0.0154 Time elapsed 886 seconds\n",
      "Epoch 20 Seen 436632 samples Avg cost 0.0117 Time elapsed 931 seconds\n",
      "Epoch 21 Seen 457424 samples Avg cost 0.0090 Time elapsed 975 seconds\n",
      "Epoch 22 Seen 478216 samples Avg cost 0.0079 Time elapsed 1019 seconds\n",
      "Epoch 23 Seen 499008 samples Avg cost 0.0064 Time elapsed 1064 seconds\n",
      "Epoch 24 Seen 519800 samples Avg cost 0.0038 Time elapsed 1108 seconds\n",
      "Epoch 0 Seen 20792 samples Avg cost 2.5194 Time elapsed 44 seconds\n",
      "Epoch 1 Seen 41584 samples Avg cost 1.2337 Time elapsed 88 seconds\n",
      "Epoch 2 Seen 62376 samples Avg cost 0.7945 Time elapsed 133 seconds\n",
      "Epoch 3 Seen 83168 samples Avg cost 0.6121 Time elapsed 177 seconds\n",
      "Epoch 4 Seen 103960 samples Avg cost 0.5309 Time elapsed 221 seconds\n",
      "Epoch 5 Seen 124752 samples Avg cost 0.4709 Time elapsed 266 seconds\n",
      "Epoch 6 Seen 145544 samples Avg cost 0.4303 Time elapsed 310 seconds\n",
      "Epoch 7 Seen 166336 samples Avg cost 0.3858 Time elapsed 354 seconds\n",
      "Epoch 8 Seen 187128 samples Avg cost 0.3267 Time elapsed 399 seconds\n",
      "Epoch 9 Seen 207920 samples Avg cost 0.2816 Time elapsed 443 seconds\n",
      "Epoch 10 Seen 228712 samples Avg cost 0.2170 Time elapsed 488 seconds\n",
      "Epoch 11 Seen 249504 samples Avg cost 0.1731 Time elapsed 532 seconds\n",
      "Epoch 12 Seen 270296 samples Avg cost 0.1229 Time elapsed 576 seconds\n",
      "Epoch 13 Seen 291088 samples Avg cost 0.0924 Time elapsed 621 seconds\n",
      "Epoch 14 Seen 311880 samples Avg cost 0.0633 Time elapsed 665 seconds\n",
      "Epoch 15 Seen 332672 samples Avg cost 0.0422 Time elapsed 710 seconds\n",
      "Epoch 16 Seen 353464 samples Avg cost 0.0293 Time elapsed 754 seconds\n",
      "Epoch 17 Seen 374256 samples Avg cost 0.0274 Time elapsed 798 seconds\n",
      "Epoch 18 Seen 395048 samples Avg cost 0.0146 Time elapsed 843 seconds\n",
      "Epoch 19 Seen 415840 samples Avg cost 0.0119 Time elapsed 887 seconds\n",
      "Epoch 20 Seen 436632 samples Avg cost 0.0108 Time elapsed 931 seconds\n",
      "Epoch 21 Seen 457424 samples Avg cost 0.0075 Time elapsed 976 seconds\n",
      "Epoch 22 Seen 478216 samples Avg cost 0.0113 Time elapsed 1020 seconds\n",
      "Epoch 23 Seen 499008 samples Avg cost 0.0053 Time elapsed 1064 seconds\n",
      "Epoch 24 Seen 519800 samples Avg cost 0.0049 Time elapsed 1109 seconds\n",
      "Epoch 0 Seen 20792 samples Avg cost 2.5290 Time elapsed 55 seconds\n",
      "Epoch 1 Seen 41584 samples Avg cost 1.3349 Time elapsed 110 seconds\n",
      "Epoch 2 Seen 62376 samples Avg cost 0.8267 Time elapsed 166 seconds\n",
      "Epoch 3 Seen 83168 samples Avg cost 0.6212 Time elapsed 221 seconds\n",
      "Epoch 4 Seen 103960 samples Avg cost 0.5176 Time elapsed 277 seconds\n",
      "Epoch 5 Seen 124752 samples Avg cost 0.4569 Time elapsed 332 seconds\n",
      "Epoch 6 Seen 145544 samples Avg cost 0.4189 Time elapsed 387 seconds\n",
      "Epoch 7 Seen 166336 samples Avg cost 0.3721 Time elapsed 443 seconds\n",
      "Epoch 8 Seen 187128 samples Avg cost 0.3329 Time elapsed 498 seconds\n",
      "Epoch 9 Seen 207920 samples Avg cost 0.2659 Time elapsed 554 seconds\n",
      "Epoch 10 Seen 228712 samples Avg cost 0.1953 Time elapsed 609 seconds\n",
      "Epoch 11 Seen 249504 samples Avg cost 0.1456 Time elapsed 664 seconds\n",
      "Epoch 12 Seen 270296 samples Avg cost 0.0955 Time elapsed 720 seconds\n",
      "Epoch 13 Seen 291088 samples Avg cost 0.0673 Time elapsed 775 seconds\n",
      "Epoch 14 Seen 311880 samples Avg cost 0.0424 Time elapsed 831 seconds\n",
      "Epoch 15 Seen 332672 samples Avg cost 0.0252 Time elapsed 886 seconds\n",
      "Epoch 16 Seen 353464 samples Avg cost 0.0138 Time elapsed 941 seconds\n",
      "Epoch 17 Seen 374256 samples Avg cost 0.0092 Time elapsed 997 seconds\n",
      "Epoch 18 Seen 395048 samples Avg cost 0.0042 Time elapsed 1052 seconds\n",
      "Epoch 19 Seen 415840 samples Avg cost 0.0060 Time elapsed 1107 seconds\n",
      "Epoch 20 Seen 436632 samples Avg cost 0.0045 Time elapsed 1163 seconds\n",
      "Epoch 21 Seen 457424 samples Avg cost 0.0022 Time elapsed 1218 seconds\n",
      "Epoch 22 Seen 478216 samples Avg cost 0.0029 Time elapsed 1274 seconds\n",
      "Epoch 23 Seen 499008 samples Avg cost 0.0017 Time elapsed 1329 seconds\n",
      "Epoch 24 Seen 519800 samples Avg cost 0.0011 Time elapsed 1384 seconds\n",
      "Epoch 0 Seen 20792 samples Avg cost 2.5294 Time elapsed 55 seconds\n",
      "Epoch 1 Seen 41584 samples Avg cost 1.3509 Time elapsed 111 seconds\n",
      "Epoch 2 Seen 62376 samples Avg cost 0.8006 Time elapsed 166 seconds\n",
      "Epoch 3 Seen 83168 samples Avg cost 0.5940 Time elapsed 222 seconds\n",
      "Epoch 4 Seen 103960 samples Avg cost 0.5019 Time elapsed 277 seconds\n",
      "Epoch 5 Seen 124752 samples Avg cost 0.4839 Time elapsed 333 seconds\n",
      "Epoch 6 Seen 145544 samples Avg cost 0.4494 Time elapsed 388 seconds\n",
      "Epoch 7 Seen 166336 samples Avg cost 0.4040 Time elapsed 444 seconds\n",
      "Epoch 8 Seen 187128 samples Avg cost 0.3559 Time elapsed 499 seconds\n",
      "Epoch 9 Seen 207920 samples Avg cost 0.2964 Time elapsed 555 seconds\n",
      "Epoch 10 Seen 228712 samples Avg cost 0.2418 Time elapsed 610 seconds\n",
      "Epoch 11 Seen 249504 samples Avg cost 0.1851 Time elapsed 666 seconds\n",
      "Epoch 12 Seen 270296 samples Avg cost 0.1532 Time elapsed 721 seconds\n",
      "Epoch 13 Seen 291088 samples Avg cost 0.1272 Time elapsed 777 seconds\n",
      "Epoch 14 Seen 311880 samples Avg cost 0.0924 Time elapsed 832 seconds\n",
      "Epoch 15 Seen 332672 samples Avg cost 0.0587 Time elapsed 888 seconds\n",
      "Epoch 16 Seen 353464 samples Avg cost 0.0482 Time elapsed 943 seconds\n",
      "Epoch 17 Seen 374256 samples Avg cost 0.0295 Time elapsed 999 seconds\n",
      "Epoch 18 Seen 395048 samples Avg cost 0.0183 Time elapsed 1054 seconds\n",
      "Epoch 19 Seen 415840 samples Avg cost 0.0114 Time elapsed 1110 seconds\n",
      "Epoch 20 Seen 436632 samples Avg cost 0.0070 Time elapsed 1165 seconds\n",
      "Epoch 21 Seen 457424 samples Avg cost 0.0073 Time elapsed 1221 seconds\n",
      "Epoch 22 Seen 478216 samples Avg cost 0.0061 Time elapsed 1276 seconds\n",
      "Epoch 23 Seen 499008 samples Avg cost 0.0031 Time elapsed 1332 seconds\n",
      "Epoch 24 Seen 519800 samples Avg cost 0.0013 Time elapsed 1387 seconds\n",
      "Epoch 0 Seen 20792 samples Avg cost 2.5184 Time elapsed 55 seconds\n",
      "Epoch 1 Seen 41584 samples Avg cost 1.2420 Time elapsed 111 seconds\n",
      "Epoch 2 Seen 62376 samples Avg cost 0.8200 Time elapsed 166 seconds\n",
      "Epoch 3 Seen 83168 samples Avg cost 0.5841 Time elapsed 222 seconds\n",
      "Epoch 4 Seen 103960 samples Avg cost 0.5150 Time elapsed 277 seconds\n",
      "Epoch 5 Seen 124752 samples Avg cost 0.4478 Time elapsed 333 seconds\n",
      "Epoch 6 Seen 145544 samples Avg cost 0.3960 Time elapsed 388 seconds\n",
      "Epoch 7 Seen 166336 samples Avg cost 0.3400 Time elapsed 444 seconds\n",
      "Epoch 8 Seen 187128 samples Avg cost 0.2961 Time elapsed 500 seconds\n",
      "Epoch 9 Seen 207920 samples Avg cost 0.2382 Time elapsed 555 seconds\n",
      "Epoch 10 Seen 228712 samples Avg cost 0.1880 Time elapsed 611 seconds\n",
      "Epoch 11 Seen 249504 samples Avg cost 0.1530 Time elapsed 667 seconds\n",
      "Epoch 12 Seen 270296 samples Avg cost 0.1261 Time elapsed 722 seconds\n",
      "Epoch 13 Seen 291088 samples Avg cost 0.1095 Time elapsed 778 seconds\n",
      "Epoch 14 Seen 311880 samples Avg cost 0.0950 Time elapsed 833 seconds\n",
      "Epoch 15 Seen 332672 samples Avg cost 0.0766 Time elapsed 889 seconds\n",
      "Epoch 16 Seen 353464 samples Avg cost 0.0584 Time elapsed 945 seconds\n",
      "Epoch 17 Seen 374256 samples Avg cost 0.0393 Time elapsed 1000 seconds\n",
      "Epoch 18 Seen 395048 samples Avg cost 0.0285 Time elapsed 1056 seconds\n",
      "Epoch 19 Seen 415840 samples Avg cost 0.0194 Time elapsed 1111 seconds\n",
      "Epoch 7 Seen 166336 samples Avg cost 0.3625 Time elapsed 444 seconds\n",
      "Epoch 8 Seen 187128 samples Avg cost 0.3056 Time elapsed 499 seconds\n",
      "Epoch 9 Seen 207920 samples Avg cost 0.2437 Time elapsed 555 seconds\n",
      "Epoch 10 Seen 228712 samples Avg cost 0.1765 Time elapsed 611 seconds\n",
      "Epoch 11 Seen 249504 samples Avg cost 0.1320 Time elapsed 666 seconds\n",
      "Epoch 12 Seen 270296 samples Avg cost 0.0855 Time elapsed 722 seconds\n",
      "Epoch 13 Seen 291088 samples Avg cost 0.0600 Time elapsed 777 seconds\n",
      "Epoch 14 Seen 311880 samples Avg cost 0.0393 Time elapsed 833 seconds\n",
      "Epoch 15 Seen 332672 samples Avg cost 0.0263 Time elapsed 889 seconds\n",
      "Epoch 16 Seen 353464 samples Avg cost 0.0139 Time elapsed 944 seconds\n",
      "Epoch 17 Seen 374256 samples Avg cost 0.0140 Time elapsed 1000 seconds\n",
      "Epoch 18 Seen 395048 samples Avg cost 0.0089 Time elapsed 1056 seconds\n",
      "Epoch 19 Seen 415840 samples Avg cost 0.0103 Time elapsed 1111 seconds\n",
      "Epoch 20 Seen 436632 samples Avg cost 0.0056 Time elapsed 1167 seconds\n",
      "Epoch 21 Seen 457424 samples Avg cost 0.0034 Time elapsed 1223 seconds\n",
      "Epoch 22 Seen 478216 samples Avg cost 0.0026 Time elapsed 1279 seconds\n",
      "Epoch 23 Seen 499008 samples Avg cost 0.0028 Time elapsed 1334 seconds\n",
      "Epoch 24 Seen 519800 samples Avg cost 0.0060 Time elapsed 1390 seconds\n",
      "Epoch 0 Seen 20792 samples Avg cost 2.4944 Time elapsed 55 seconds\n",
      "Epoch 1 Seen 41584 samples Avg cost 1.2248 Time elapsed 111 seconds\n",
      "Epoch 2 Seen 62376 samples Avg cost 0.7779 Time elapsed 166 seconds\n",
      "Epoch 3 Seen 83168 samples Avg cost 0.5700 Time elapsed 222 seconds\n",
      "Epoch 4 Seen 103960 samples Avg cost 0.5191 Time elapsed 277 seconds\n",
      "Epoch 5 Seen 124752 samples Avg cost 0.4599 Time elapsed 333 seconds\n",
      "Epoch 6 Seen 145544 samples Avg cost 0.4319 Time elapsed 388 seconds\n",
      "Epoch 7 Seen 166336 samples Avg cost 0.3786 Time elapsed 444 seconds\n",
      "Epoch 8 Seen 187128 samples Avg cost 0.3248 Time elapsed 499 seconds\n",
      "Epoch 9 Seen 207920 samples Avg cost 0.2795 Time elapsed 555 seconds\n",
      "Epoch 10 Seen 228712 samples Avg cost 0.2185 Time elapsed 610 seconds\n",
      "Epoch 11 Seen 249504 samples Avg cost 0.1773 Time elapsed 666 seconds\n",
      "Epoch 12 Seen 270296 samples Avg cost 0.1368 Time elapsed 721 seconds\n",
      "Epoch 13 Seen 291088 samples Avg cost 0.1012 Time elapsed 777 seconds\n",
      "Epoch 14 Seen 311880 samples Avg cost 0.0697 Time elapsed 832 seconds\n",
      "Epoch 15 Seen 332672 samples Avg cost 0.0510 Time elapsed 888 seconds\n",
      "Epoch 16 Seen 353464 samples Avg cost 0.0421 Time elapsed 943 seconds\n",
      "Epoch 17 Seen 374256 samples Avg cost 0.0245 Time elapsed 999 seconds\n",
      "Epoch 18 Seen 395048 samples Avg cost 0.0174 Time elapsed 1054 seconds\n",
      "Epoch 19 Seen 415840 samples Avg cost 0.0136 Time elapsed 1110 seconds\n",
      "Epoch 20 Seen 436632 samples Avg cost 0.0111 Time elapsed 1165 seconds\n",
      "Epoch 21 Seen 457424 samples Avg cost 0.0092 Time elapsed 1221 seconds\n",
      "Epoch 22 Seen 478216 samples Avg cost 0.0063 Time elapsed 1277 seconds\n",
      "Epoch 23 Seen 499008 samples Avg cost 0.0072 Time elapsed 1332 seconds\n",
      "Epoch 24 Seen 519800 samples Avg cost 0.0038 Time elapsed 1388 seconds\n",
      "Epoch 0 Seen 20792 samples Avg cost 2.6239 Time elapsed 83 seconds\n",
      "Epoch 1 Seen 41584 samples Avg cost 1.3679 Time elapsed 165 seconds\n",
      "Epoch 2 Seen 62376 samples Avg cost 0.8299 Time elapsed 249 seconds\n",
      "Epoch 3 Seen 83168 samples Avg cost 0.5962 Time elapsed 332 seconds\n",
      "Epoch 4 Seen 103960 samples Avg cost 0.5022 Time elapsed 414 seconds\n",
      "Epoch 5 Seen 124752 samples Avg cost 0.4703 Time elapsed 497 seconds\n",
      "Epoch 6 Seen 145544 samples Avg cost 0.4324 Time elapsed 580 seconds\n",
      "Epoch 7 Seen 166336 samples Avg cost 0.3870 Time elapsed 663 seconds\n",
      "Epoch 8 Seen 187128 samples Avg cost 0.3232 Time elapsed 746 seconds\n",
      "Epoch 9 Seen 207920 samples Avg cost 0.2692 Time elapsed 829 seconds\n",
      "Epoch 10 Seen 228712 samples Avg cost 0.2073 Time elapsed 912 seconds\n",
      "Epoch 11 Seen 249504 samples Avg cost 0.1594 Time elapsed 995 seconds\n",
      "Epoch 12 Seen 270296 samples Avg cost 0.1209 Time elapsed 1078 seconds\n",
      "Epoch 13 Seen 291088 samples Avg cost 0.0942 Time elapsed 1161 seconds\n",
      "Epoch 14 Seen 311880 samples Avg cost 0.0580 Time elapsed 1244 seconds\n",
      "Epoch 15 Seen 332672 samples Avg cost 0.0406 Time elapsed 1327 seconds\n",
      "Epoch 16 Seen 353464 samples Avg cost 0.0247 Time elapsed 1410 seconds\n",
      "Epoch 17 Seen 374256 samples Avg cost 0.0123 Time elapsed 1493 seconds\n",
      "Epoch 18 Seen 395048 samples Avg cost 0.0090 Time elapsed 1576 seconds\n",
      "Epoch 19 Seen 415840 samples Avg cost 0.0071 Time elapsed 1659 seconds\n",
      "Epoch 20 Seen 436632 samples Avg cost 0.0045 Time elapsed 1742 seconds\n",
      "Epoch 21 Seen 457424 samples Avg cost 0.0069 Time elapsed 1825 seconds\n",
      "Epoch 22 Seen 478216 samples Avg cost 0.0023 Time elapsed 1907 seconds\n",
      "Epoch 23 Seen 499008 samples Avg cost 0.0037 Time elapsed 1990 seconds\n",
      "Epoch 24 Seen 519800 samples Avg cost 0.0010 Time elapsed 2073 seconds\n",
      "Epoch 0 Seen 20792 samples Avg cost 2.6091 Time elapsed 82 seconds\n",
      "Epoch 1 Seen 41584 samples Avg cost 1.3737 Time elapsed 165 seconds\n",
      "Epoch 2 Seen 62376 samples Avg cost 0.7766 Time elapsed 248 seconds\n",
      "Epoch 3 Seen 83168 samples Avg cost 0.5767 Time elapsed 331 seconds\n",
      "Epoch 4 Seen 103960 samples Avg cost 0.4838 Time elapsed 414 seconds\n",
      "Epoch 5 Seen 124752 samples Avg cost 0.4447 Time elapsed 497 seconds\n",
      "Epoch 6 Seen 145544 samples Avg cost 0.4028 Time elapsed 580 seconds\n",
      "Epoch 7 Seen 166336 samples Avg cost 0.3578 Time elapsed 663 seconds\n",
      "Epoch 8 Seen 187128 samples Avg cost 0.3151 Time elapsed 746 seconds\n",
      "Epoch 9 Seen 207920 samples Avg cost 0.2661 Time elapsed 829 seconds\n",
      "Epoch 10 Seen 228712 samples Avg cost 0.2158 Time elapsed 912 seconds\n",
      "Epoch 11 Seen 249504 samples Avg cost 0.1638 Time elapsed 995 seconds\n",
      "Epoch 12 Seen 270296 samples Avg cost 0.1201 Time elapsed 1078 seconds\n",
      "Epoch 13 Seen 291088 samples Avg cost 0.0841 Time elapsed 1161 seconds\n",
      "Epoch 14 Seen 311880 samples Avg cost 0.0612 Time elapsed 1244 seconds\n",
      "Epoch 15 Seen 332672 samples Avg cost 0.0415 Time elapsed 1327 seconds\n",
      "Epoch 16 Seen 353464 samples Avg cost 0.0280 Time elapsed 1410 seconds\n",
      "Epoch 17 Seen 374256 samples Avg cost 0.0195 Time elapsed 1493 seconds\n",
      "Epoch 18 Seen 395048 samples Avg cost 0.0184 Time elapsed 1576 seconds\n",
      "Epoch 19 Seen 415840 samples Avg cost 0.0106 Time elapsed 1659 seconds\n",
      "Epoch 20 Seen 436632 samples Avg cost 0.0039 Time elapsed 1742 seconds\n",
      "Epoch 21 Seen 457424 samples Avg cost 0.0037 Time elapsed 1825 seconds\n",
      "Epoch 22 Seen 478216 samples Avg cost 0.0064 Time elapsed 1908 seconds\n",
      "Epoch 23 Seen 499008 samples Avg cost 0.0021 Time elapsed 1991 seconds\n",
      "Epoch 24 Seen 519800 samples Avg cost 0.0036 Time elapsed 2074 seconds\n",
      "Epoch 0 Seen 20792 samples Avg cost 2.6253 Time elapsed 82 seconds\n",
      "Epoch 1 Seen 41584 samples Avg cost 1.5210 Time elapsed 165 seconds\n",
      "Epoch 2 Seen 62376 samples Avg cost 0.8414 Time elapsed 248 seconds\n",
      "Epoch 3 Seen 83168 samples Avg cost 0.6506 Time elapsed 331 seconds\n",
      "Epoch 4 Seen 103960 samples Avg cost 0.5579 Time elapsed 414 seconds\n",
      "Epoch 5 Seen 124752 samples Avg cost 0.4905 Time elapsed 497 seconds\n",
      "Epoch 6 Seen 145544 samples Avg cost 0.4436 Time elapsed 580 seconds\n",
      "Epoch 7 Seen 166336 samples Avg cost 0.3905 Time elapsed 663 seconds\n",
      "Epoch 8 Seen 187128 samples Avg cost 0.3336 Time elapsed 746 seconds\n",
      "Epoch 9 Seen 207920 samples Avg cost 0.2627 Time elapsed 829 seconds\n",
      "Epoch 10 Seen 228712 samples Avg cost 0.2093 Time elapsed 912 seconds\n",
      "Epoch 11 Seen 249504 samples Avg cost 0.1472 Time elapsed 995 seconds\n",
      "Epoch 12 Seen 270296 samples Avg cost 0.1021 Time elapsed 1078 seconds\n",
      "Epoch 13 Seen 291088 samples Avg cost 0.0663 Time elapsed 1161 seconds\n",
      "Epoch 14 Seen 311880 samples Avg cost 0.0394 Time elapsed 1244 seconds\n",
      "Epoch 15 Seen 332672 samples Avg cost 0.0270 Time elapsed 1327 seconds\n",
      "Epoch 16 Seen 353464 samples Avg cost 0.0179 Time elapsed 1410 seconds\n",
      "Epoch 17 Seen 374256 samples Avg cost 0.0101 Time elapsed 1493 seconds\n",
      "Epoch 18 Seen 395048 samples Avg cost 0.0108 Time elapsed 1575 seconds\n",
      "Epoch 19 Seen 415840 samples Avg cost 0.0068 Time elapsed 1658 seconds\n",
      "Epoch 20 Seen 436632 samples Avg cost 0.0055 Time elapsed 1742 seconds\n",
      "Epoch 21 Seen 457424 samples Avg cost 0.0044 Time elapsed 1825 seconds\n",
      "Epoch 22 Seen 478216 samples Avg cost 0.0095 Time elapsed 1907 seconds\n",
      "Epoch 23 Seen 499008 samples Avg cost 0.0025 Time elapsed 1990 seconds\n",
      "Epoch 24 Seen 519800 samples Avg cost 0.0041 Time elapsed 2073 seconds\n",
      "Epoch 0 Seen 20792 samples Avg cost 2.5586 Time elapsed 83 seconds\n",
      "Epoch 1 Seen 41584 samples Avg cost 1.3212 Time elapsed 166 seconds\n",
      "Epoch 2 Seen 62376 samples Avg cost 0.8272 Time elapsed 249 seconds\n",
      "Epoch 3 Seen 83168 samples Avg cost 0.6561 Time elapsed 332 seconds\n",
      "Epoch 4 Seen 103960 samples Avg cost 0.5274 Time elapsed 415 seconds\n",
      "Epoch 5 Seen 124752 samples Avg cost 0.4775 Time elapsed 498 seconds\n",
      "Epoch 6 Seen 145544 samples Avg cost 0.4382 Time elapsed 581 seconds\n",
      "Epoch 7 Seen 166336 samples Avg cost 0.3750 Time elapsed 664 seconds\n",
      "Epoch 8 Seen 187128 samples Avg cost 0.3286 Time elapsed 747 seconds\n",
      "Epoch 9 Seen 207920 samples Avg cost 0.2822 Time elapsed 830 seconds\n",
      "Epoch 10 Seen 228712 samples Avg cost 0.2355 Time elapsed 913 seconds\n",
      "Epoch 11 Seen 249504 samples Avg cost 0.1898 Time elapsed 996 seconds\n",
      "Epoch 12 Seen 270296 samples Avg cost 0.1591 Time elapsed 1079 seconds\n",
      "Epoch 13 Seen 291088 samples Avg cost 0.1237 Time elapsed 1162 seconds\n",
      "Epoch 14 Seen 311880 samples Avg cost 0.0986 Time elapsed 1245 seconds\n",
      "Epoch 15 Seen 332672 samples Avg cost 0.0722 Time elapsed 1328 seconds\n",
      "Epoch 16 Seen 353464 samples Avg cost 0.0475 Time elapsed 1412 seconds\n",
      "Epoch 17 Seen 374256 samples Avg cost 0.0399 Time elapsed 1495 seconds\n",
      "Epoch 18 Seen 395048 samples Avg cost 0.0215 Time elapsed 1578 seconds\n",
      "Epoch 19 Seen 415840 samples Avg cost 0.0114 Time elapsed 1661 seconds\n",
      "Epoch 20 Seen 436632 samples Avg cost 0.0126 Time elapsed 1744 seconds\n",
      "Epoch 21 Seen 457424 samples Avg cost 0.0073 Time elapsed 1827 seconds\n",
      "Epoch 22 Seen 478216 samples Avg cost 0.0098 Time elapsed 1910 seconds\n",
      "Epoch 23 Seen 499008 samples Avg cost 0.0066 Time elapsed 1993 seconds\n",
      "Epoch 24 Seen 519800 samples Avg cost 0.0051 Time elapsed 2076 seconds\n",
      "Epoch 0 Seen 20792 samples Avg cost 2.5957 Time elapsed 83 seconds\n",
      "Epoch 1 Seen 41584 samples Avg cost 1.3766 Time elapsed 166 seconds\n",
      "Epoch 2 Seen 62376 samples Avg cost 0.8016 Time elapsed 249 seconds\n",
      "Epoch 3 Seen 83168 samples Avg cost 0.6139 Time elapsed 332 seconds\n",
      "Epoch 4 Seen 103960 samples Avg cost 0.5227 Time elapsed 415 seconds\n",
      "Epoch 5 Seen 124752 samples Avg cost 0.4833 Time elapsed 498 seconds\n",
      "Epoch 6 Seen 145544 samples Avg cost 0.4428 Time elapsed 582 seconds\n",
      "Epoch 7 Seen 166336 samples Avg cost 0.4168 Time elapsed 665 seconds\n",
      "Epoch 8 Seen 187128 samples Avg cost 0.3752 Time elapsed 748 seconds\n",
      "Epoch 9 Seen 207920 samples Avg cost 0.3351 Time elapsed 831 seconds\n",
      "Epoch 10 Seen 228712 samples Avg cost 0.2761 Time elapsed 914 seconds\n",
      "Epoch 11 Seen 249504 samples Avg cost 0.2180 Time elapsed 997 seconds\n",
      "Epoch 12 Seen 270296 samples Avg cost 0.1774 Time elapsed 1080 seconds\n",
      "Epoch 13 Seen 291088 samples Avg cost 0.1297 Time elapsed 1163 seconds\n",
      "Epoch 14 Seen 311880 samples Avg cost 0.0949 Time elapsed 1246 seconds\n",
      "Epoch 15 Seen 332672 samples Avg cost 0.0700 Time elapsed 1329 seconds\n",
      "Epoch 16 Seen 353464 samples Avg cost 0.0494 Time elapsed 1413 seconds\n",
      "Epoch 17 Seen 374256 samples Avg cost 0.0397 Time elapsed 1496 seconds\n",
      "Epoch 18 Seen 395048 samples Avg cost 0.0311 Time elapsed 1579 seconds\n",
      "Epoch 19 Seen 415840 samples Avg cost 0.0194 Time elapsed 1662 seconds\n",
      "Epoch 20 Seen 436632 samples Avg cost 0.0171 Time elapsed 1745 seconds\n",
      "Epoch 21 Seen 457424 samples Avg cost 0.0102 Time elapsed 1828 seconds\n",
      "Epoch 22 Seen 478216 samples Avg cost 0.0084 Time elapsed 1911 seconds\n",
      "Epoch 23 Seen 499008 samples Avg cost 0.0074 Time elapsed 1994 seconds\n",
      "Epoch 24 Seen 519800 samples Avg cost 0.0065 Time elapsed 2078 seconds\n"
     ]
    }
   ],
   "source": [
    "comb_scores = {}\n",
    "\n",
    "for size, pd in product(sizes, p_drop):\n",
    "    layers = [\n",
    "        Embedding(size=128, n_features=tokenizer.n_features),\n",
    "        GatedRecurrent(size=size, p_drop=pd),\n",
    "        Dense(size=14, activation='softmax', p_drop=0.2)\n",
    "    ]\n",
    "\n",
    "    model = RNN(layers=layers, cost='cce', updater=Adadelta(lr=0.5))\n",
    "    model.fit(trX_t, trY_t, n_epochs=25)\n",
    "\n",
    "    pr_teX = model.predict(teX_t)\n",
    "    classes = np.argmax(pr_teX, axis=1)\n",
    "\n",
    "    acc = metrics.accuracy_score(teY_t, classes)\n",
    "    comb_scores[(size, pd)] = acc"
   ]
  },
  {
   "cell_type": "code",
   "execution_count": null,
   "metadata": {
    "collapsed": false,
    "scrolled": true
   },
   "outputs": [
    {
     "data": {
      "text/plain": [
       "{(768, 0.2): 0.81814285714285717,\n",
       " (768, 0.25): 0.84014285714285719,\n",
       " (768, 0.35): 0.82771428571428574,\n",
       " (768, 0.4): 0.83971428571428575,\n",
       " (768, 0.45): 0.85357142857142854,\n",
       " (1024, 0.2): 0.82985714285714285,\n",
       " (1024, 0.25): 0.80828571428571427,\n",
       " (1024, 0.35): 0.83542857142857141,\n",
       " (1024, 0.4): 0.83314285714285718,\n",
       " (1024, 0.45): 0.85271428571428576,\n",
       " (1280, 0.2): 0.83699999999999997,\n",
       " (1280, 0.25): 0.82271428571428573,\n",
       " (1280, 0.35): 0.83271428571428574,\n",
       " (1280, 0.4): 0.85757142857142854,\n",
       " (1280, 0.45): 0.84257142857142853}"
      ]
     },
     "execution_count": 25,
     "metadata": {},
     "output_type": "execute_result"
    }
   ],
   "source": [
    "comb_scores"
   ]
  },
  {
   "cell_type": "code",
   "execution_count": null,
   "metadata": {
    "collapsed": true
   },
   "outputs": [],
   "source": [
    "comb_scores"
   ]
  },
  {
   "cell_type": "code",
   "execution_count": null,
   "metadata": {
    "collapsed": true
   },
   "outputs": [],
   "source": []
  },
  {
   "cell_type": "code",
   "execution_count": null,
   "metadata": {
    "collapsed": true
   },
   "outputs": [],
   "source": []
  },
  {
   "cell_type": "code",
   "execution_count": null,
   "metadata": {
    "collapsed": true
   },
   "outputs": [],
   "source": []
  },
  {
   "cell_type": "code",
   "execution_count": null,
   "metadata": {
    "collapsed": true
   },
   "outputs": [],
   "source": []
  },
  {
   "cell_type": "code",
   "execution_count": null,
   "metadata": {
    "collapsed": true
   },
   "outputs": [],
   "source": []
  },
  {
   "cell_type": "code",
   "execution_count": null,
   "metadata": {
    "collapsed": true
   },
   "outputs": [],
   "source": []
  },
  {
   "cell_type": "code",
   "execution_count": null,
   "metadata": {
    "collapsed": true
   },
   "outputs": [],
   "source": []
  }
 ],
 "metadata": {
  "kernelspec": {
   "display_name": "Python 2",
   "language": "python",
   "name": "python2"
  },
  "language_info": {
   "codemirror_mode": {
    "name": "ipython",
    "version": 2
   },
   "file_extension": ".py",
   "mimetype": "text/x-python",
   "name": "python",
   "nbconvert_exporter": "python",
   "pygments_lexer": "ipython2",
   "version": "2.7.10"
  }
 },
 "nbformat": 4,
 "nbformat_minor": 0
}
