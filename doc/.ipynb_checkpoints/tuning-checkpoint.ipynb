{
 "cells": [
  {
   "cell_type": "code",
   "execution_count": 1,
   "metadata": {
    "collapsed": true
   },
   "outputs": [],
   "source": [
    "%matplotlib inline"
   ]
  },
  {
   "cell_type": "code",
   "execution_count": 2,
   "metadata": {
    "collapsed": false
   },
   "outputs": [
    {
     "name": "stderr",
     "output_type": "stream",
     "text": [
      "Using gpu device 0: GRID K520\n"
     ]
    }
   ],
   "source": [
    "from sklearn.cross_validation import train_test_split\n",
    "import pandas as pd\n",
    "\n",
    "from passage.models import RNN\n",
    "from passage.updates import Adadelta\n",
    "from passage.updates import NAG, Regularizer\n",
    "from passage.layers import Embedding, GatedRecurrent, Dense\n",
    "from passage.preprocessing import *\n",
    "\n",
    "from sklearn import preprocessing, metrics\n",
    "from matplotlib import pyplot as plt"
   ]
  },
  {
   "cell_type": "code",
   "execution_count": 3,
   "metadata": {
    "collapsed": true
   },
   "outputs": [],
   "source": [
    "fn = '../../devel.txt'"
   ]
  },
  {
   "cell_type": "code",
   "execution_count": 4,
   "metadata": {
    "collapsed": true
   },
   "outputs": [],
   "source": [
    "tr_data = pd.read_csv(fn, encoding='utf-8', sep=r'\\t+', header=None, names=['text', 'label'], engine='python')"
   ]
  },
  {
   "cell_type": "code",
   "execution_count": 5,
   "metadata": {
    "collapsed": true
   },
   "outputs": [],
   "source": [
    "grps = tr_data.groupby(['label'])"
   ]
  },
  {
   "cell_type": "code",
   "execution_count": 6,
   "metadata": {
    "collapsed": false
   },
   "outputs": [
    {
     "name": "stdout",
     "output_type": "stream",
     "text": [
      "bg (2000, 2)\n",
      "bs (2000, 2)\n",
      "cz (2000, 2)\n",
      "es-AR (2000, 2)\n",
      "es-ES (2000, 2)\n",
      "hr (2000, 2)\n",
      "id (2000, 2)\n",
      "mk (2000, 2)\n",
      "my (2000, 2)\n",
      "pt-BR (2000, 2)\n",
      "pt-PT (2000, 2)\n",
      "sk (2000, 2)\n",
      "sr (2000, 2)\n",
      "xx (2000, 2)\n"
     ]
    }
   ],
   "source": [
    "train_df = pd.DataFrame(columns=['text','label'])\n",
    "test_df = pd.DataFrame(columns=['text','label'])\n",
    "\n",
    "for name, grp in grps:\n",
    "    print name, grp.shape\n",
    "    train, test = train_test_split(grp, test_size=0.25, random_state=42)\n",
    "\n",
    "    train_df = train_df.append(train, ignore_index=True)\n",
    "    test_df = test_df.append(test, ignore_index=True)"
   ]
  },
  {
   "cell_type": "code",
   "execution_count": 7,
   "metadata": {
    "collapsed": false
   },
   "outputs": [],
   "source": [
    "trX = train_df['text'].values\n",
    "trY = train_df['label'].values"
   ]
  },
  {
   "cell_type": "code",
   "execution_count": 8,
   "metadata": {
    "collapsed": true
   },
   "outputs": [],
   "source": [
    "teX = test_df['text'].values\n",
    "teY = test_df['label'].values"
   ]
  },
  {
   "cell_type": "code",
   "execution_count": 9,
   "metadata": {
    "collapsed": false
   },
   "outputs": [
    {
     "data": {
      "text/plain": [
       "array(['bg', 'bs', 'cz', 'es-AR', 'es-ES', 'hr', 'id', 'mk', 'my', 'pt-BR',\n",
       "       'pt-PT', 'sk', 'sr', 'xx'], dtype=object)"
      ]
     },
     "execution_count": 9,
     "metadata": {},
     "output_type": "execute_result"
    }
   ],
   "source": [
    "le = preprocessing.LabelEncoder()\n",
    "trY_t = le.fit_transform(trY)\n",
    "teY_t = le.transform(teY)\n",
    "le.classes_"
   ]
  },
  {
   "cell_type": "code",
   "execution_count": null,
   "metadata": {
    "collapsed": true
   },
   "outputs": [],
   "source": []
  },
  {
   "cell_type": "code",
   "execution_count": 10,
   "metadata": {
    "collapsed": false
   },
   "outputs": [
    {
     "name": "stdout",
     "output_type": "stream",
     "text": [
      "Training data tokenized.\n"
     ]
    },
    {
     "name": "stderr",
     "output_type": "stream",
     "text": [
      "/home/ubuntu/Downloads/passage/passage/preprocessing.py:41: UnicodeWarning: Unicode equal comparison failed to convert both arguments to Unicode - interpreting them as being unequal\n",
      "  if t in punctuation:\n"
     ]
    }
   ],
   "source": [
    "tokenizer = Tokenizer(min_df=1, max_features=1000000)\n",
    "trX_t = tokenizer.fit_transform(trX)\n",
    "print(\"Training data tokenized.\")"
   ]
  },
  {
   "cell_type": "code",
   "execution_count": 11,
   "metadata": {
    "collapsed": false
   },
   "outputs": [
    {
     "data": {
      "text/plain": [
       "149110"
      ]
     },
     "execution_count": 11,
     "metadata": {},
     "output_type": "execute_result"
    }
   ],
   "source": [
    "tokenizer.n_features"
   ]
  },
  {
   "cell_type": "code",
   "execution_count": 12,
   "metadata": {
    "collapsed": true
   },
   "outputs": [],
   "source": [
    "teX_t = tokenizer.transform(teX)"
   ]
  },
  {
   "cell_type": "code",
   "execution_count": null,
   "metadata": {
    "collapsed": true
   },
   "outputs": [],
   "source": []
  },
  {
   "cell_type": "code",
   "execution_count": null,
   "metadata": {
    "collapsed": false,
    "scrolled": false
   },
   "outputs": [],
   "source": [
    "p_drop_scores = {}\n",
    "\n",
    "for p_drop in [0.1, 0.15, 0.2, 0.25, 0.3, 0.35, 0.4, 0.45]:\n",
    "    layers = [\n",
    "        Embedding(size=128, n_features=tokenizer.n_features),\n",
    "        GatedRecurrent(size=768, p_drop=p_drop),\n",
    "        Dense(size=14, activation='softmax', p_drop=0.2)\n",
    "    ]\n",
    "\n",
    "    model = RNN(layers=layers, cost='cce', updater=Adadelta(lr=0.5))\n",
    "    model.fit(trX_t, trY_t, n_epochs=10)\n",
    "\n",
    "    pr_teX = model.predict(teX_t)\n",
    "    classes = np.argmax(pr_teX, axis=1)\n",
    "\n",
    "    acc = metrics.accuracy_score(teY_t, classes)\n",
    "    p_drop_scores[p_drop] = acc"
   ]
  },
  {
   "cell_type": "code",
   "execution_count": 24,
   "metadata": {
    "collapsed": false
   },
   "outputs": [
    {
     "data": {
      "text/plain": [
       "<matplotlib.collections.PathCollection at 0x7fdcef331c10>"
      ]
     },
     "execution_count": 24,
     "metadata": {},
     "output_type": "execute_result"
    },
    {
     "data": {
      "image/png": "[encoded data removed]",
      "text/plain": [
       "<matplotlib.figure.Figure at 0x7fdcee2de550>"
      ]
     },
     "metadata": {},
     "output_type": "display_data"
    }
   ],
   "source": [
    "scores = zip(*p_drop_scores.iteritems())\n",
    "plt.scatter(scores[0], scores[1])"
   ]
  },
  {
   "cell_type": "code",
   "execution_count": null,
   "metadata": {
    "collapsed": true
   },
   "outputs": [],
   "source": []
  },
  {
   "cell_type": "code",
   "execution_count": null,
   "metadata": {
    "collapsed": false
   },
   "outputs": [
    {
     "name": "stdout",
     "output_type": "stream",
     "text": [
      "Epoch 0 Seen 20792 samples Avg cost 1.7675 Time elapsed 15 seconds\n",
      "Epoch 1 Seen 41584 samples Avg cost 0.8298 Time elapsed 31 seconds\n",
      "Epoch 2 Seen 62376 samples Avg cost 0.6080 Time elapsed 46 seconds\n",
      "Epoch 3 Seen 83168 samples Avg cost 0.5133 Time elapsed 62 seconds\n",
      "Epoch 4 Seen 103960 samples Avg cost 0.4550 Time elapsed 77 seconds\n",
      "Epoch 5 Seen 124752 samples Avg cost 0.4042 Time elapsed 93 seconds\n",
      "Epoch 6 Seen 145544 samples Avg cost 0.3580 Time elapsed 108 seconds\n",
      "Epoch 7 Seen 166336 samples Avg cost 0.3131 Time elapsed 124 seconds\n",
      "Epoch 8 Seen 187128 samples Avg cost 0.2523 Time elapsed 139 seconds\n",
      "Epoch 9 Seen 207920 samples Avg cost 0.1902 Time elapsed 155 seconds\n",
      "Epoch 0 Seen 20792 samples Avg cost 1.7555 Time elapsed 17 seconds\n",
      "Epoch 1 Seen 41584 samples Avg cost 0.8124 Time elapsed 34 seconds\n",
      "Epoch 2 Seen 62376 samples Avg cost 0.6210 Time elapsed 51 seconds\n",
      "Epoch 3 Seen 83168 samples Avg cost 0.5219 Time elapsed 69 seconds\n",
      "Epoch 4 Seen 103960 samples Avg cost 0.4512 Time elapsed 86 seconds\n",
      "Epoch 5 Seen 124752 samples Avg cost 0.3901 Time elapsed 103 seconds\n",
      "Epoch 6 Seen 145544 samples Avg cost 0.3426 Time elapsed 121 seconds\n",
      "Epoch 7 Seen 166336 samples Avg cost 0.2911 Time elapsed 138 seconds\n",
      "Epoch 8 Seen 187128 samples Avg cost 0.2364 Time elapsed 155 seconds\n",
      "Epoch 9 Seen 207920 samples Avg cost 0.1940 Time elapsed 173 seconds\n",
      "Epoch 0 Seen 20792 samples Avg cost 2.0834 Time elapsed 24 seconds\n",
      "Epoch 1 Seen 41584 samples Avg cost 0.8804 Time elapsed 49 seconds\n",
      "Epoch 2 Seen 62376 samples Avg cost 0.6292 Time elapsed 74 seconds\n",
      "Epoch 3 Seen 83168 samples Avg cost 0.5264 Time elapsed 99 seconds\n",
      "Epoch 4 Seen 103960 samples Avg cost 0.4718 Time elapsed 124 seconds\n",
      "Epoch 5 Seen 124752 samples Avg cost 0.4347 Time elapsed 149 seconds\n",
      "Epoch 6 Seen 145544 samples Avg cost 0.3927 Time elapsed 174 seconds\n",
      "Epoch 7 Seen 166336 samples Avg cost 0.3484 Time elapsed 199 seconds\n",
      "Epoch 8 Seen 187128 samples Avg cost 0.3048 Time elapsed 224 seconds\n",
      "Epoch 9 Seen 207920 samples Avg cost 0.2539 Time elapsed 249 seconds\n",
      "Epoch 0 Seen 20792 samples Avg cost 2.3007 Time elapsed 31 seconds\n",
      "Epoch 1 Seen 41584 samples Avg cost 1.0825 Time elapsed 62 seconds\n",
      "Epoch 2 Seen 62376 samples Avg cost 0.7058 Time elapsed 93 seconds\n",
      "Epoch 3 Seen 83168 samples Avg cost 0.5427 Time elapsed 124 seconds\n",
      "Epoch 4 Seen 103960 samples Avg cost 0.4797 Time elapsed 156 seconds\n",
      "Epoch 5 Seen 124752 samples Avg cost 0.4509 Time elapsed 187 seconds\n",
      "Epoch 6 Seen 145544 samples Avg cost 0.4062 Time elapsed 218 seconds\n",
      "Epoch 7 Seen 166336 samples Avg cost 0.3620 Time elapsed 249 seconds\n",
      "Epoch 8 Seen 187128 samples Avg cost 0.3234 Time elapsed 281 seconds\n",
      "Epoch 9 Seen 207920 samples Avg cost 0.2612 Time elapsed 312 seconds\n",
      "Epoch 0 Seen 20792 samples Avg cost 2.4871 Time elapsed 46 seconds\n",
      "Epoch 1 Seen 41584 samples Avg cost 1.2031 Time elapsed 92 seconds\n",
      "Epoch 2 Seen 62376 samples Avg cost 0.7838 Time elapsed 138 seconds\n",
      "Epoch 3 Seen 83168 samples Avg cost 0.5882 Time elapsed 184 seconds\n",
      "Epoch 4 Seen 103960 samples Avg cost 0.5075 Time elapsed 229 seconds\n",
      "Epoch 5 Seen 124752 samples Avg cost 0.4593 Time elapsed 275 seconds\n",
      "Epoch 6 Seen 145544 samples Avg cost 0.4365 Time elapsed 321 seconds\n",
      "Epoch 7 Seen 166336 samples Avg cost 0.3815 Time elapsed 367 seconds\n",
      "Epoch 8 Seen 187128 samples Avg cost 0.3266 Time elapsed 413 seconds\n",
      "Epoch 9 Seen 207920 samples Avg cost 0.2753 Time elapsed 459 seconds\n",
      "Epoch 0 Seen 20792 samples Avg cost 2.5491 Time elapsed 56 seconds\n",
      "Epoch 1 Seen 41584 samples Avg cost 1.4388 Time elapsed 113 seconds\n",
      "Epoch 2 Seen 62376 samples Avg cost 0.8355 Time elapsed 170 seconds\n",
      "Epoch 3 Seen 83168 samples Avg cost 0.6508 Time elapsed 227 seconds\n",
      "Epoch 4 Seen 103960 samples Avg cost 0.5331 Time elapsed 283 seconds\n",
      "Epoch 5 Seen 124752 samples Avg cost 0.4732 Time elapsed 340 seconds\n",
      "Epoch 6 Seen 145544 samples Avg cost 0.4159 Time elapsed 397 seconds\n",
      "Epoch 7 Seen 166336 samples Avg cost 0.3641 Time elapsed 454 seconds\n",
      "Epoch 8 Seen 187128 samples Avg cost 0.3185 Time elapsed 511 seconds\n",
      "Epoch 9 Seen 207920 samples Avg cost 0.2601 Time elapsed 567 seconds\n",
      "Epoch 0 Seen 20792 samples Avg cost 2.5496 Time elapsed 83 seconds\n",
      "Epoch 1 Seen 41584 samples Avg cost 1.3620 Time elapsed 166 seconds\n",
      "Epoch 2 Seen 62376 samples Avg cost 0.8101 Time elapsed 250 seconds\n",
      "Epoch 3 Seen 83168 samples Avg cost 0.6022 Time elapsed 333 seconds\n",
      "Epoch 4 Seen 103960 samples Avg cost 0.5114 Time elapsed 416 seconds\n",
      "Epoch 5 Seen 124752 samples Avg cost 0.4487 Time elapsed 500 seconds\n",
      "Epoch 6 Seen 145544 samples Avg cost 0.4025 Time elapsed 583 seconds\n",
      "Epoch 7 Seen 166336 samples Avg cost 0.3534 Time elapsed 666 seconds\n",
      "Epoch 8 Seen 187128 samples Avg cost 0.3076 Time elapsed 750 seconds\n",
      "Epoch 9 Seen 198712 samples Avg cost 0.2568 Time left 36 seconds"
     ]
    }
   ],
   "source": [
    "size_scores = {}\n",
    "\n",
    "for size in [64, 128, 256, 512, 768, 1024, 1280]:\n",
    "    layers = [\n",
    "        Embedding(size=128, n_features=tokenizer.n_features),\n",
    "        GatedRecurrent(size=size, p_drop=0.35),\n",
    "        Dense(size=14, activation='softmax', p_drop=0.2)\n",
    "    ]\n",
    "\n",
    "    model = RNN(layers=layers, cost='cce', updater=Adadelta(lr=0.5))\n",
    "    model.fit(trX_t, trY_t, n_epochs=10)\n",
    "\n",
    "    pr_teX = model.predict(teX_t)\n",
    "    classes = np.argmax(pr_teX, axis=1)\n",
    "\n",
    "    acc = metrics.accuracy_score(teY_t, classes)\n",
    "    size_scores[size] = acc"
   ]
  },
  {
   "cell_type": "code",
   "execution_count": 25,
   "metadata": {
    "collapsed": false,
    "scrolled": true
   },
   "outputs": [
    {
     "data": {
      "text/plain": [
       "<matplotlib.collections.PathCollection at 0x7fdd0a78a490>"
      ]
     },
     "execution_count": 25,
     "metadata": {},
     "output_type": "execute_result"
    },
    {
     "data": {
      "image/png": "[encoded data removed]",
      "text/plain": [
       "<matplotlib.figure.Figure at 0x7fdd10156550>"
      ]
     },
     "metadata": {},
     "output_type": "display_data"
    }
   ],
   "source": [
    "scores = zip(*size_scores.iteritems())\n",
    "plt.scatter(scores[0], scores[1])"
   ]
  },
  {
   "cell_type": "code",
   "execution_count": null,
   "metadata": {
    "collapsed": true
   },
   "outputs": [],
   "source": []
  },
  {
   "cell_type": "code",
   "execution_count": null,
   "metadata": {
    "collapsed": true
   },
   "outputs": [],
   "source": []
  },
  {
   "cell_type": "code",
   "execution_count": null,
   "metadata": {
    "collapsed": true
   },
   "outputs": [],
   "source": []
  },
  {
   "cell_type": "code",
   "execution_count": null,
   "metadata": {
    "collapsed": true
   },
   "outputs": [],
   "source": [
    "epochs_scores = {}\n",
    "\n",
    "for epoch in [5, 7, 10, 13, 15, 17, 20, 22, 25]:\n",
    "    layers = [\n",
    "        Embedding(size=128, n_features=tokenizer.n_features),\n",
    "        GatedRecurrent(size=768, p_drop=0.35),\n",
    "        Dense(size=14, activation='softmax', p_drop=0.2)\n",
    "    ]\n",
    "\n",
    "    model = RNN(layers=layers, cost='cce', updater=Adadelta(lr=0.5))\n",
    "    model.fit(trX_t, trY_t, n_epochs=epoch)\n",
    "\n",
    "    pr_teX = model.predict(teX_t)\n",
    "    classes = np.argmax(pr_teX, axis=1)\n",
    "\n",
    "    acc = metrics.accuracy_score(teY_t, classes)\n",
    "    epochs_scores[epoch] = acc"
   ]
  },
  {
   "cell_type": "code",
   "execution_count": 26,
   "metadata": {
    "collapsed": false
   },
   "outputs": [
    {
     "data": {
      "text/plain": [
       "<matplotlib.collections.PathCollection at 0x7fdcf1ba9b10>"
      ]
     },
     "execution_count": 26,
     "metadata": {},
     "output_type": "execute_result"
    },
    {
     "data": {
      "image/png": "[encoded data removed]",
      "text/plain": [
       "<matplotlib.figure.Figure at 0x7fdced7e4310>"
      ]
     },
     "metadata": {},
     "output_type": "display_data"
    }
   ],
   "source": [
    "scores = zip(*epochs_scores.iteritems())\n",
    "plt.scatter(scores[0], scores[1])"
   ]
  },
  {
   "cell_type": "code",
   "execution_count": null,
   "metadata": {
    "collapsed": true
   },
   "outputs": [],
   "source": []
  },
  {
   "cell_type": "code",
   "execution_count": 71,
   "metadata": {
    "collapsed": true
   },
   "outputs": [],
   "source": [
    "epochs = [15, 20, 25]\n",
    "sizes = [512, 768, 1024, 1280]\n",
    "p_drop = [0.15, 0.2, 0.4, 0.45]"
   ]
  },
  {
   "cell_type": "code",
   "execution_count": 72,
   "metadata": {
    "collapsed": true
   },
   "outputs": [],
   "source": [
    "from itertools import product"
   ]
  },
  {
   "cell_type": "code",
   "execution_count": 73,
   "metadata": {
    "collapsed": false
   },
   "outputs": [
    {
     "data": {
      "text/plain": [
       "[(15, 512, 0.15),\n",
       " (15, 512, 0.2),\n",
       " (15, 512, 0.4),\n",
       " (15, 512, 0.45),\n",
       " (15, 768, 0.15),\n",
       " (15, 768, 0.2),\n",
       " (15, 768, 0.4),\n",
       " (15, 768, 0.45),\n",
       " (15, 1024, 0.15),\n",
       " (15, 1024, 0.2),\n",
       " (15, 1024, 0.4),\n",
       " (15, 1024, 0.45),\n",
       " (15, 1280, 0.15),\n",
       " (15, 1280, 0.2),\n",
       " (15, 1280, 0.4),\n",
       " (15, 1280, 0.45),\n",
       " (20, 512, 0.15),\n",
       " (20, 512, 0.2),\n",
       " (20, 512, 0.4),\n",
       " (20, 512, 0.45),\n",
       " (20, 768, 0.15),\n",
       " (20, 768, 0.2),\n",
       " (20, 768, 0.4),\n",
       " (20, 768, 0.45),\n",
       " (20, 1024, 0.15),\n",
       " (20, 1024, 0.2),\n",
       " (20, 1024, 0.4),\n",
       " (20, 1024, 0.45),\n",
       " (20, 1280, 0.15),\n",
       " (20, 1280, 0.2),\n",
       " (20, 1280, 0.4),\n",
       " (20, 1280, 0.45),\n",
       " (25, 512, 0.15),\n",
       " (25, 512, 0.2),\n",
       " (25, 512, 0.4),\n",
       " (25, 512, 0.45),\n",
       " (25, 768, 0.15),\n",
       " (25, 768, 0.2),\n",
       " (25, 768, 0.4),\n",
       " (25, 768, 0.45),\n",
       " (25, 1024, 0.15),\n",
       " (25, 1024, 0.2),\n",
       " (25, 1024, 0.4),\n",
       " (25, 1024, 0.45),\n",
       " (25, 1280, 0.15),\n",
       " (25, 1280, 0.2),\n",
       " (25, 1280, 0.4),\n",
       " (25, 1280, 0.45)]"
      ]
     },
     "execution_count": 73,
     "metadata": {},
     "output_type": "execute_result"
    }
   ],
   "source": [
    "list(product(epochs, sizes, p_drop))"
   ]
  },
  {
   "cell_type": "code",
   "execution_count": null,
   "metadata": {
    "collapsed": false
   },
   "outputs": [],
   "source": [
    "comb_scores = {}\n",
    "\n",
    "for epoch, size, pd in product(epochs, sizes, p_drop):\n",
    "    layers = [\n",
    "        Embedding(size=128, n_features=tokenizer.n_features),\n",
    "        GatedRecurrent(size=size, p_drop=pd),\n",
    "        Dense(size=14, activation='softmax', p_drop=0.2)\n",
    "    ]\n",
    "\n",
    "    model = RNN(layers=layers, cost='cce', updater=Adadelta(lr=0.5))\n",
    "    model.fit(trX_t, trY_t, n_epochs=epoch)\n",
    "\n",
    "    pr_teX = model.predict(teX_t)\n",
    "    classes = np.argmax(pr_teX, axis=1)\n",
    "\n",
    "    acc = metrics.accuracy_score(teY_t, classes)\n",
    "    comb_scores[(epoch, size, pd)] = acc"
   ]
  },
  {
   "cell_type": "code",
   "execution_count": null,
   "metadata": {
    "collapsed": false
   },
   "outputs": [],
   "source": [
    "comb_scores"
   ]
  },
  {
   "cell_type": "code",
   "execution_count": null,
   "metadata": {
    "collapsed": true
   },
   "outputs": [],
   "source": []
  }
 ],
 "metadata": {
  "kernelspec": {
   "display_name": "Python 2",
   "language": "python",
   "name": "python2"
  },
  "language_info": {
   "codemirror_mode": {
    "name": "ipython",
    "version": 2
   },
   "file_extension": ".py",
   "mimetype": "text/x-python",
   "name": "python",
   "nbconvert_exporter": "python",
   "pygments_lexer": "ipython2",
   "version": "2.7.10"
  }
 },
 "nbformat": 4,
 "nbformat_minor": 0
}
